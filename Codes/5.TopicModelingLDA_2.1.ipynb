{
 "cells": [
  {
   "cell_type": "code",
   "execution_count": 1,
   "id": "3c5f64aa-0237-4156-852f-06a5bee18aa6",
   "metadata": {},
   "outputs": [
    {
     "name": "stdout",
     "output_type": "stream",
     "text": [
      "WARNING:tensorflow:From C:\\Users\\Hyemi\\AppData\\Local\\Programs\\Python\\Python312\\Lib\\site-packages\\tf_keras\\src\\losses.py:2976: The name tf.losses.sparse_softmax_cross_entropy is deprecated. Please use tf.compat.v1.losses.sparse_softmax_cross_entropy instead.\n",
      "\n"
     ]
    }
   ],
   "source": [
    "###' ################################################################################\n",
    "###'\n",
    "###' IMPORT LIBRARIES\n",
    "###'\n",
    "###'\n",
    "\n",
    "import numpy as np\n",
    "import pandas as pd\n",
    "from pathlib import Path\n",
    "import random\n",
    "import torch\n",
    "from keybert import KeyBERT\n",
    "\n",
    "import ast\n",
    "import umap.umap_ as umap\n",
    "import matplotlib.pyplot as plt\n",
    "import matplotlib.colors as mcolors\n",
    "from sklearn.cluster import KMeans\n",
    "from sklearn.cluster import SpectralClustering\n",
    "from sklearn.cluster import AgglomerativeClustering\n",
    "from sklearn.preprocessing import StandardScaler\n",
    "from mpl_toolkits.mplot3d import Axes3D\n",
    "from sklearn.manifold import SpectralEmbedding\n",
    "\n",
    "### LDA\n",
    "import gensim\n",
    "import gensim.corpora as corpora\n",
    "from sklearn.feature_extraction.text import TfidfVectorizer\n",
    "from gensim.models import Phrases\n",
    "\n",
    "### BERT\n",
    "from bertopic import BERTopic\n",
    "from sklearn.feature_extraction.text import CountVectorizer\n",
    "from bertopic.vectorizers import ClassTfidfTransformer"
   ]
  },
  {
   "cell_type": "code",
   "execution_count": 2,
   "id": "423ff230-c8d7-4c31-99d3-7f0646650f2e",
   "metadata": {},
   "outputs": [],
   "source": [
    "# Load dataset\n",
    "data_dir = Path(r\"C:\\Users\\Hyemi\\Python\\TopicModeling\\Data\")\n",
    "data_dir.mkdir(parents=True, exist_ok=True) \n",
    "\n",
    "embedding_files = [\n",
    "    \"articles_4_clustering1.csv\",\n",
    "    \"articles_4_clustering2.csv\",\n",
    "    \"articles_4_clustering3.csv\",\n",
    "    \"articles_4_clustering4.csv\"\n",
    "]\n",
    "\n",
    "embedding_file_paths = [data_dir / file for file in embedding_files]\n",
    "\n",
    "\n",
    "embedding_dfs = []\n",
    "for file_path in embedding_file_paths:\n",
    "    if file_path.exists():  # Check if the file exists before reading\n",
    "        embedding_dfs.append(pd.read_csv(file_path))\n",
    "\n",
    "df1a = embedding_dfs[0]\n",
    "df2a = embedding_dfs[1]\n",
    "df3a = embedding_dfs[2]\n",
    "df4a = embedding_dfs[3]"
   ]
  },
  {
   "cell_type": "code",
   "execution_count": null,
   "id": "08e167a7-0566-4f67-abc2-8321238d8fc0",
   "metadata": {},
   "outputs": [],
   "source": []
  },
  {
   "cell_type": "code",
   "execution_count": null,
   "id": "0b2ab317-ab38-49fe-8cc6-f2c82bef34d5",
   "metadata": {},
   "outputs": [],
   "source": []
  },
  {
   "cell_type": "markdown",
   "id": "c6c46674-c2eb-46b3-a372-ebb963f185da",
   "metadata": {},
   "source": [
    "## Group 1"
   ]
  },
  {
   "cell_type": "code",
   "execution_count": 6,
   "id": "1b5ad77f-2289-4437-bb50-434441895004",
   "metadata": {},
   "outputs": [
    {
     "data": {
      "text/plain": [
       "Cluster3\n",
       "0    3101\n",
       "1     862\n",
       "2     432\n",
       "Name: count, dtype: int64"
      ]
     },
     "execution_count": 6,
     "metadata": {},
     "output_type": "execute_result"
    }
   ],
   "source": [
    "df1 = df1a\n",
    "df1['Cluster3'].value_counts()"
   ]
  },
  {
   "cell_type": "code",
   "execution_count": 5,
   "id": "4f68ac9b-1098-4ec8-a728-2ac1414414a1",
   "metadata": {},
   "outputs": [
    {
     "name": "stdout",
     "output_type": "stream",
     "text": [
      "Cluster 0: individual difference, facial expression, work memory, control group, old adult, executive function, young adult, reaction time, positive negative, provide evidence\n",
      "Cluster 1: music training, musical training, speech music, phonological awareness, listen music, music language, music perception, program note, music speech, music performance\n",
      "Cluster 2: gender difference, spatial ability, gender information, noun phrase, grammatical gender, reflexive pronoun, stem career, stem field, genderfair language, engineering mathematic\n"
     ]
    }
   ],
   "source": [
    "###########  BEST so far\n",
    "\n",
    "np.random.seed(40)\n",
    "random.seed(40)\n",
    "torch.manual_seed(40) \n",
    "\n",
    "abstracts = df1['Abstract_join'].dropna().tolist()\n",
    "cluster_labels = df1['Cluster3'].astype(int).tolist() \n",
    "\n",
    "# Apply BERTopic with Predefined Cluster Labels\n",
    "vectorizer_model = CountVectorizer(ngram_range=(2, 4), stop_words='english')\n",
    "bertopic_model = BERTopic(vectorizer_model=vectorizer_model, ctfidf_model=ClassTfidfTransformer())\n",
    "\n",
    "# Fit BERTopic using predefined cluster labels\n",
    "topics, _ = bertopic_model.fit_transform(abstracts, y=cluster_labels)  \n",
    "bertopic_model.reduce_topics(abstracts, nr_topics=4)  \n",
    "\n",
    "# Store topics in dataframe\n",
    "#df['topic'] = topics\n",
    "\n",
    "# Get Top Words per Cluster\n",
    "topic_summary = bertopic_model.get_topics()\n",
    "\n",
    "# Print Cluster Topics\n",
    "for cluster in sorted(df1['Cluster3'].unique()):\n",
    "    if cluster in topic_summary:  # Ensure the cluster exists in the BERTopic output\n",
    "        print(f\"Cluster {cluster}: {', '.join([word[0] for word in topic_summary[cluster][:10]])}\")"
   ]
  },
  {
   "cell_type": "code",
   "execution_count": 7,
   "id": "8fe1e87a-52ed-452f-b277-cc76d6e9e985",
   "metadata": {},
   "outputs": [
    {
     "data": {
      "text/plain": [
       "{-1: [('work memory', 0.0020841158290305305),\n",
       "  ('individual difference', 0.0013988292859779714),\n",
       "  ('personality trait', 0.0010687225104195164),\n",
       "  ('young adult', 0.0010544423958250503),\n",
       "  ('control group', 0.0010368124306495991),\n",
       "  ('old adult', 0.000996158218213982),\n",
       "  ('eye movement', 0.0009729771159973683),\n",
       "  ('provide evidence', 0.0008858833234556463),\n",
       "  ('problem solve', 0.0008494044092251906),\n",
       "  ('social interaction', 0.0008237780669456124)],\n",
       " 0: [('individual difference', 0.0015546148615394864),\n",
       "  ('facial expression', 0.0014649797669357694),\n",
       "  ('work memory', 0.0013882477030026845),\n",
       "  ('control group', 0.0013000090146234784),\n",
       "  ('old adult', 0.0012724540617116789),\n",
       "  ('executive function', 0.001177777603076478),\n",
       "  ('young adult', 0.000991585782142074),\n",
       "  ('reaction time', 0.0009532845479000437),\n",
       "  ('positive negative', 0.0009290529799957143),\n",
       "  ('provide evidence', 0.000865744321314817)],\n",
       " 1: [('music training', 0.007419032852345174),\n",
       "  ('musical training', 0.005957677447909104),\n",
       "  ('speech music', 0.005204477151985916),\n",
       "  ('phonological awareness', 0.004892014716139456),\n",
       "  ('listen music', 0.004748181025500911),\n",
       "  ('music language', 0.004022725510890017),\n",
       "  ('music perception', 0.003941148960158254),\n",
       "  ('program note', 0.00386543755863049),\n",
       "  ('music speech', 0.00378170169348507),\n",
       "  ('music performance', 0.003637983655530696)],\n",
       " 2: [('gender difference', 0.017316502195867386),\n",
       "  ('spatial ability', 0.013941056717051148),\n",
       "  ('gender information', 0.013337741794784983),\n",
       "  ('noun phrase', 0.01092431243996868),\n",
       "  ('grammatical gender', 0.010768095211097421),\n",
       "  ('reflexive pronoun', 0.010768095211097421),\n",
       "  ('stem career', 0.009742661863134914),\n",
       "  ('stem field', 0.008469611021088381),\n",
       "  ('genderfair language', 0.008350853025544213),\n",
       "  ('engineering mathematic', 0.008350853025544213)]}"
      ]
     },
     "execution_count": 7,
     "metadata": {},
     "output_type": "execute_result"
    }
   ],
   "source": [
    "topic_summary"
   ]
  },
  {
   "cell_type": "code",
   "execution_count": null,
   "id": "886e5e07-aa2e-44da-8daf-8e40a2b303a1",
   "metadata": {},
   "outputs": [],
   "source": []
  },
  {
   "cell_type": "code",
   "execution_count": null,
   "id": "7796c72c-52f3-4972-89bb-64438dcc8079",
   "metadata": {},
   "outputs": [],
   "source": []
  },
  {
   "cell_type": "code",
   "execution_count": null,
   "id": "c2998e50-0973-4bca-b5f1-83f1846d21bf",
   "metadata": {},
   "outputs": [],
   "source": []
  },
  {
   "cell_type": "markdown",
   "id": "093e6554-1b10-48a4-854a-ac68170fd2b8",
   "metadata": {},
   "source": [
    "## Group 2"
   ]
  },
  {
   "cell_type": "code",
   "execution_count": 8,
   "id": "8083def1-13b4-4b1c-87ee-924e519bb96d",
   "metadata": {},
   "outputs": [
    {
     "data": {
      "text/plain": [
       "Cluster3\n",
       "0    3387\n",
       "1    1432\n",
       "2     945\n",
       "Name: count, dtype: int64"
      ]
     },
     "execution_count": 8,
     "metadata": {},
     "output_type": "execute_result"
    }
   ],
   "source": [
    "df2 = df2a\n",
    "df2['Cluster3'].value_counts()"
   ]
  },
  {
   "cell_type": "code",
   "execution_count": 16,
   "id": "c819c9be-f48b-4e2d-a2c8-2cbd90b57632",
   "metadata": {},
   "outputs": [
    {
     "name": "stdout",
     "output_type": "stream",
     "text": [
      "Cluster 0: mental health, work memory, old adult, control group, individual difference, facial expression, structural equation, executive function, positive negative, young adult\n",
      "Cluster 1: academic procrastination, utility value, bedtime procrastination, distal utility, distal utility value, procrastination scale, team procrastination, effort cost, peer attachment, selfregulatory resource\n",
      "Cluster 2: political ideology, national identification, perceive threat, sacred value, collective action, action intention, political attitude, social exclusion, attitude immigrant, electoral support\n"
     ]
    }
   ],
   "source": [
    "###########  BEST so far\n",
    "\n",
    "np.random.seed(42)\n",
    "random.seed(42)\n",
    "torch.manual_seed(42) \n",
    "\n",
    "abstracts = df2['Abstract_join'].dropna().tolist()\n",
    "cluster_labels = df2['Cluster3'].astype(int).tolist()  \n",
    "\n",
    "# Apply BERTopic with Predefined Cluster Labels\n",
    "vectorizer_model = CountVectorizer(ngram_range=(2, 4), stop_words='english')\n",
    "bertopic_model = BERTopic(vectorizer_model=vectorizer_model, ctfidf_model=ClassTfidfTransformer())\n",
    "\n",
    "# Fit BERTopic using predefined cluster labels\n",
    "topics, _ = bertopic_model.fit_transform(abstracts, y=cluster_labels)  \n",
    "bertopic_model.reduce_topics(abstracts, nr_topics=4)  \n",
    "\n",
    "# Store topics in dataframe\n",
    "#df['topic'] = topics\n",
    "\n",
    "# Get Top Words per Cluster\n",
    "topic_summary = bertopic_model.get_topics()\n",
    "\n",
    "# Print Cluster Topics\n",
    "for cluster in sorted(df2['Cluster3'].unique()):\n",
    "    if cluster in topic_summary:  # Ensure the cluster exists in the BERTopic output\n",
    "        print(f\"Cluster {cluster}: {', '.join([word[0] for word in topic_summary[cluster][:10]])}\")"
   ]
  },
  {
   "cell_type": "code",
   "execution_count": null,
   "id": "47a34bbc-036c-44ac-b40e-58b62ff5ae60",
   "metadata": {},
   "outputs": [],
   "source": []
  },
  {
   "cell_type": "code",
   "execution_count": null,
   "id": "020b24be-abee-49b6-864c-bab9d5a2f28e",
   "metadata": {},
   "outputs": [],
   "source": []
  },
  {
   "cell_type": "code",
   "execution_count": null,
   "id": "49d16fd4-2e91-48a5-b0e3-19a3fad9d068",
   "metadata": {},
   "outputs": [],
   "source": []
  },
  {
   "cell_type": "markdown",
   "id": "7bc72383-06a7-4426-b413-cee84008b1c2",
   "metadata": {},
   "source": [
    "## GROUP3"
   ]
  },
  {
   "cell_type": "code",
   "execution_count": 19,
   "id": "5a455e89-dd2e-4c03-bfea-55a1362fd1ec",
   "metadata": {},
   "outputs": [
    {
     "data": {
      "text/plain": [
       "Cluster9\n",
       "1    1683\n",
       "6    1290\n",
       "3    1283\n",
       "2     747\n",
       "5     674\n",
       "0     599\n",
       "8     351\n",
       "7     291\n",
       "4     184\n",
       "Name: count, dtype: int64"
      ]
     },
     "execution_count": 19,
     "metadata": {},
     "output_type": "execute_result"
    }
   ],
   "source": [
    "df3 = df3a\n",
    "df3['Cluster9'].value_counts()"
   ]
  },
  {
   "cell_type": "code",
   "execution_count": 14,
   "id": "9abd2a04-aec3-4a76-9fe1-0ac33a7655e9",
   "metadata": {},
   "outputs": [
    {
     "name": "stdout",
     "output_type": "stream",
     "text": [
      "Cluster 0: mental health, covid pandemic, college student, structural equation, physical activity, social support, university student, datum collect, emotion regulation, work engagement\n",
      "Cluster 1: old adult, facial expression, native speaker, body image, significant difference, work memory, control group, young adult, virtual reality, eye movement\n",
      "Cluster 2: soccer player, football player, sport performance, elite athlete, futsal player, physical activity, mental health, team sport, goal motive, significant difference\n",
      "Cluster 3: purchase intention, climate change, social medium, proenvironmental behavior, social networking, structural equation, influence consumer, green product, sustainable development, environmental concern\n",
      "Cluster 4: communicative act, sexual orientation, man woman, relationship quality, sexual behavior, lesbian woman, parenting intention, sexual satisfaction, woman man, sexual arousal\n",
      "Cluster 5: sample size, cognitive diagnostic, cognitive diagnosis, item response, parameter estimate, classification accuracy, diagnosis model, cognitive diagnosis model, item parameter, latent class\n",
      "Cluster 6: chronic pain, sleep duration, sleep quality, depressive symptom, pain invalidation, mental health, insomnia sleep, cognitive reserve, prevalence insomnia, pain condition\n"
     ]
    }
   ],
   "source": [
    "np.random.seed(40)\n",
    "random.seed(40)\n",
    "torch.manual_seed(40) \n",
    "\n",
    "abstracts = df3['Abstract_join'].dropna().tolist()\n",
    "cluster_labels = df3['Cluster7'].astype(int).tolist()  \n",
    "\n",
    "# Apply BERTopic with Predefined Cluster Labels\n",
    "vectorizer_model = CountVectorizer(ngram_range=(2, 4), stop_words='english')\n",
    "bertopic_model = BERTopic(vectorizer_model=vectorizer_model, ctfidf_model=ClassTfidfTransformer())\n",
    "\n",
    "# Fit BERTopic using predefined cluster labels\n",
    "topics, _ = bertopic_model.fit_transform(abstracts, y=cluster_labels)  \n",
    "bertopic_model.reduce_topics(abstracts, nr_topics=8)  \n",
    "\n",
    "# Store topics in dataframe\n",
    "#df['topic'] = topics\n",
    "\n",
    "# Get Top Words per Cluster\n",
    "topic_summary = bertopic_model.get_topics()\n",
    "\n",
    "# Print Cluster Topics\n",
    "for cluster in sorted(df3['Cluster7'].unique()):\n",
    "    if cluster in topic_summary:  # Ensure the cluster exists in the BERTopic output\n",
    "        print(f\"Cluster {cluster}: {', '.join([word[0] for word in topic_summary[cluster][:10]])}\")"
   ]
  },
  {
   "cell_type": "code",
   "execution_count": 17,
   "id": "a45652d6-31f5-4351-92b1-67a29c0bc645",
   "metadata": {},
   "outputs": [
    {
     "name": "stdout",
     "output_type": "stream",
     "text": [
      "Cluster 0: mental health, covid pandemic, physical activity, social support, structural equation, university student, work engagement, college student, depressive symptom, life satisfaction\n",
      "Cluster 1: facial expression, old adult, native speaker, work memory, individual difference, control group, second language, negative emotion, social medium, eventrelate potential\n",
      "Cluster 2: entrepreneurship education, entrepreneurial intention, college student, purchase intention, innovation entrepreneurship, student entrepreneurial, entrepreneurial selfefficacy, structural equation, psychological capital, new venture\n",
      "Cluster 3: soccer player, football player, sport performance, mental health, elite athlete, goal motive, futsal player, significant difference, physical activity, training session\n",
      "Cluster 4: music student, music performance, acoustic environment, music listen, musical instrument, old adult, performance anxiety, musical experience, music therapy, musical performance\n",
      "Cluster 5: communicative act, gender stereotype, male female, gender role, sexual orientation, gender equality, man woman, gender difference, sexual behavior, parenting intention\n",
      "Cluster 6: cognitive diagnostic, sample size, latent class, cognitive diagnosis, item response, classification accuracy, parameter estimate, monte carlo, diagnosis model, cognitive diagnosis model\n",
      "Cluster 7: interpersonal forgiveness, offense situation, forgiveness intervention, implicit forgiveness, explicit forgiveness, love forgiveness, emotional forgiveness, trait forgiveness, forgiveness tendency, trait anger\n"
     ]
    }
   ],
   "source": [
    "np.random.seed(40)\n",
    "random.seed(40)\n",
    "torch.manual_seed(40) \n",
    "\n",
    "abstracts = df3['Abstract_join'].dropna().tolist()\n",
    "cluster_labels = df3['Cluster8'].astype(int).tolist()  \n",
    "\n",
    "# Apply BERTopic with Predefined Cluster Labels\n",
    "vectorizer_model = CountVectorizer(ngram_range=(2, 4), stop_words='english')\n",
    "bertopic_model = BERTopic(vectorizer_model=vectorizer_model, ctfidf_model=ClassTfidfTransformer())\n",
    "\n",
    "# Fit BERTopic using predefined cluster labels\n",
    "topics, _ = bertopic_model.fit_transform(abstracts, y=cluster_labels)  \n",
    "bertopic_model.reduce_topics(abstracts, nr_topics=9)  \n",
    "\n",
    "# Store topics in dataframe\n",
    "#df['topic'] = topics\n",
    "\n",
    "# Get Top Words per Cluster\n",
    "topic_summary = bertopic_model.get_topics()\n",
    "\n",
    "# Print Cluster Topics\n",
    "for cluster in sorted(df3['Cluster8'].unique()):\n",
    "    if cluster in topic_summary:  # Ensure the cluster exists in the BERTopic output\n",
    "        print(f\"Cluster {cluster}: {', '.join([word[0] for word in topic_summary[cluster][:10]])}\")"
   ]
  },
  {
   "cell_type": "code",
   "execution_count": 18,
   "id": "d60093be-4dee-40a2-b7c4-e09dd38c675f",
   "metadata": {},
   "outputs": [
    {
     "name": "stdout",
     "output_type": "stream",
     "text": [
      "Cluster 0: mental health, covid pandemic, physical activity, social support, depression anxiety, online survey, depressive symptom, anxiety depression, coronavirus disease, perceive stress\n",
      "Cluster 1: entrepreneurship education, college student, entrepreneurial intention, structural equation, datum collect, work engagement, psychological capital, job satisfaction, moderate relationship, confirmatory factor\n",
      "Cluster 2: facial expression, native speaker, second language, word recognition, visual attention, work memory, emotion recognition, individual difference, emotion regulation, clause chain\n",
      "Cluster 3: mental health, executive function, parent child, depressive symptom, child adolescent, young child, social anxiety, significant difference, child asd, emotion regulation\n",
      "Cluster 4: social medium, purchase intention, climate change, datum collect, perceive value, stereotype threat, gender stereotype, social interaction, structural equation, communicative act\n",
      "Cluster 5: music student, music performance, acoustic environment, music listen, musical instrument, frequency band, performance anxiety, old adult, musical experience, instrumental music\n",
      "Cluster 6: sample size, cognitive diagnostic, item response, cognitive diagnosis, parameter estimate, classification accuracy, diagnosis model, cognitive diagnosis model, latent variable, item parameter\n",
      "Cluster 7: tourism experience, tourism development, poverty alleviation, tourism product, tourism industry, visually impair, sustainable tourism, tourist satisfaction, place attachment, cultural heritage\n",
      "Cluster 8: interpersonal forgiveness, offense situation, forgiveness intervention, implicit forgiveness, explicit forgiveness, love forgiveness, emotional forgiveness, trait forgiveness, forgiveness tendency, trait anger\n"
     ]
    }
   ],
   "source": [
    "np.random.seed(40)\n",
    "random.seed(40)\n",
    "torch.manual_seed(40) \n",
    "\n",
    "abstracts = df3['Abstract_join'].dropna().tolist()\n",
    "cluster_labels = df3['Cluster9'].astype(int).tolist()  \n",
    "\n",
    "# Apply BERTopic with Predefined Cluster Labels\n",
    "vectorizer_model = CountVectorizer(ngram_range=(2, 4), stop_words='english')\n",
    "bertopic_model = BERTopic(vectorizer_model=vectorizer_model, ctfidf_model=ClassTfidfTransformer())\n",
    "\n",
    "# Fit BERTopic using predefined cluster labels\n",
    "topics, _ = bertopic_model.fit_transform(abstracts, y=cluster_labels)  \n",
    "bertopic_model.reduce_topics(abstracts, nr_topics=10)  \n",
    "\n",
    "# Store topics in dataframe\n",
    "#df['topic'] = topics\n",
    "\n",
    "# Get Top Words per Cluster\n",
    "topic_summary = bertopic_model.get_topics()\n",
    "\n",
    "# Print Cluster Topics\n",
    "for cluster in sorted(df3['Cluster9'].unique()):\n",
    "    if cluster in topic_summary:  # Ensure the cluster exists in the BERTopic output\n",
    "        print(f\"Cluster {cluster}: {', '.join([word[0] for word in topic_summary[cluster][:10]])}\")"
   ]
  },
  {
   "cell_type": "code",
   "execution_count": null,
   "id": "91e9be0e-e7b9-4e10-b486-2a131587c36e",
   "metadata": {},
   "outputs": [],
   "source": []
  },
  {
   "cell_type": "code",
   "execution_count": null,
   "id": "e881a0be-8315-4fd6-985b-5ab55f4766fd",
   "metadata": {},
   "outputs": [],
   "source": []
  },
  {
   "cell_type": "markdown",
   "id": "8c7d02b2-97ba-4f68-970d-6429a478ecd3",
   "metadata": {},
   "source": [
    "## GROUP4"
   ]
  },
  {
   "cell_type": "code",
   "execution_count": 12,
   "id": "193aef34-4cfa-485f-a78a-6c9f006be948",
   "metadata": {},
   "outputs": [
    {
     "data": {
      "text/plain": [
       "Cluster9\n",
       "0    3042\n",
       "2    2193\n",
       "5    1972\n",
       "4    1350\n",
       "1    1036\n",
       "3    1021\n",
       "8     647\n",
       "7     646\n",
       "6     268\n",
       "Name: count, dtype: int64"
      ]
     },
     "execution_count": 12,
     "metadata": {},
     "output_type": "execute_result"
    }
   ],
   "source": [
    "df4 = df4a\n",
    "df4['Cluster9'].value_counts()"
   ]
  },
  {
   "cell_type": "code",
   "execution_count": 15,
   "id": "40741099-1599-4b73-90a7-b1cc3e78e59a",
   "metadata": {},
   "outputs": [
    {
     "name": "stdout",
     "output_type": "stream",
     "text": [
      "Cluster 0: mental health, physical activity, college student, social support, depressive symptom, covid pandemic, quality life, sleep quality, social medium, anxiety depression\n",
      "Cluster 1: structural equation, work engagement, foreign language, college student, datum collect, job satisfaction, covid pandemic, online learning, mediate relationship, university student\n",
      "Cluster 2: purchase intention, social medium, structural equation, consumer purchase, facial expression, emotion recognition, climate change, perceive value, behavioral intention, consumer purchase intention\n",
      "Cluster 3: old adult, second language, work memory, executive function, child language, native speaker, heritage language, read comprehension, control group, significant difference\n",
      "Cluster 4: entrepreneurial intention, entrepreneurship education, college student, green innovation, student entrepreneurial, innovation performance, business model, entrepreneurial performance, structural equation, significant positive\n",
      "Cluster 5: music education, music performance, music listen, music training, music therapy, music teacher, performance anxiety, music performance anxiety, public performance, musical instrument\n",
      "Cluster 6: academic procrastination, work procrastination, short video addiction, video addiction, physical activity, short video, maladaptive perfectionism, time management, college student, procrastination scale\n",
      "Cluster 7: visual metaphor, conceptual metaphor, defeasible reasoning, sport fanaticism, conceptualization time, verbal metaphor, multimodal metaphor, scientific metaphor, word pair, visual field\n",
      "Cluster 8: psychedelic experience, mindfulness meditation, mindfulness meditation psychedelic, meditation psychedelic, attribution consciousness, mindfulness practice, archetype symbol, challenging experience, psychedelic drug, psychedelic integration\n"
     ]
    }
   ],
   "source": [
    "###########  BEST so far\n",
    "\n",
    "np.random.seed(40)\n",
    "random.seed(40)\n",
    "torch.manual_seed(40) \n",
    "\n",
    "abstracts = df4['Abstract_join'].dropna().tolist()\n",
    "cluster_labels = df4['Cluster9'].astype(int).tolist()  \n",
    "\n",
    "# Apply BERTopic with Predefined Cluster Labels\n",
    "vectorizer_model = CountVectorizer(ngram_range=(2, 4), stop_words='english')\n",
    "bertopic_model = BERTopic(vectorizer_model=vectorizer_model, ctfidf_model=ClassTfidfTransformer())\n",
    "\n",
    "# Fit BERTopic using predefined cluster labels\n",
    "topics, _ = bertopic_model.fit_transform(abstracts, y=cluster_labels)  \n",
    "bertopic_model.reduce_topics(abstracts, nr_topics=10)  \n",
    "\n",
    "# Store topics in dataframe\n",
    "#df['topic'] = topics\n",
    "\n",
    "# Get Top Words per Cluster\n",
    "topic_summary = bertopic_model.get_topics()\n",
    "\n",
    "# Print Cluster Topics\n",
    "for cluster in sorted(df4['Cluster9'].unique()):\n",
    "    if cluster in topic_summary:  # Ensure the cluster exists in the BERTopic output\n",
    "        print(f\"Cluster {cluster}: {', '.join([word[0] for word in topic_summary[cluster][:10]])}\")"
   ]
  },
  {
   "cell_type": "code",
   "execution_count": null,
   "id": "c5bc9625-eca9-4246-9258-46c1526fe9b3",
   "metadata": {},
   "outputs": [],
   "source": []
  }
 ],
 "metadata": {
  "kernelspec": {
   "display_name": "Python 3 (ipykernel)",
   "language": "python",
   "name": "python3"
  },
  "language_info": {
   "codemirror_mode": {
    "name": "ipython",
    "version": 3
   },
   "file_extension": ".py",
   "mimetype": "text/x-python",
   "name": "python",
   "nbconvert_exporter": "python",
   "pygments_lexer": "ipython3",
   "version": "3.12.8"
  }
 },
 "nbformat": 4,
 "nbformat_minor": 5
}
