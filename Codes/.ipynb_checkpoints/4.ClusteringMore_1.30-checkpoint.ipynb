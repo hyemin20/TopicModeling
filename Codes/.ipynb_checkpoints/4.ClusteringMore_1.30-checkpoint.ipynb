{
 "cells": [
  {
   "cell_type": "code",
   "execution_count": 1,
   "id": "6cbe3d4a",
   "metadata": {},
   "outputs": [],
   "source": [
    "###' ################################################################################\n",
    "###'\n",
    "###' IMPORT LIBRARIES\n",
    "###'\n",
    "###'\n",
    "\n",
    "import numpy as np\n",
    "import pandas as pd\n",
    "from pathlib import Path\n",
    "\n",
    "import ast\n",
    "import umap.umap_ as umap\n",
    "import matplotlib.pyplot as plt\n",
    "import matplotlib.colors as mcolors\n",
    "from sklearn.cluster import KMeans\n",
    "from sklearn.cluster import SpectralClustering\n",
    "from sklearn.preprocessing import StandardScaler\n",
    "from mpl_toolkits.mplot3d import Axes3D"
   ]
  },
  {
   "cell_type": "markdown",
   "id": "b16aae3a-581e-4fc9-95e8-a5481e5b4bd1",
   "metadata": {},
   "source": [
    "## 0. Clustering Settings"
   ]
  },
  {
   "cell_type": "code",
   "execution_count": 2,
   "id": "b57f8b37",
   "metadata": {},
   "outputs": [],
   "source": [
    "# Load dataset\n",
    "\n",
    "data_dir = Path(r\"C:\\Users\\Hyemi\\Python\\TopicModeling\\Data\")\n",
    "data_dir.mkdir(parents=True, exist_ok=True) \n",
    "\n",
    "embedding_files = [\n",
    "    \"articles_embedding_1_full.csv\",\n",
    "    \"articles_embedding_2_full.csv\",\n",
    "    \"articles_embedding_3_full.csv\",\n",
    "    \"articles_embedding_4_full.csv\"\n",
    "]\n",
    "\n",
    "embedding_file_paths = [data_dir / file for file in embedding_files]\n",
    "\n",
    "\n",
    "embedding_dfs = []\n",
    "for file_path in embedding_file_paths:\n",
    "    if file_path.exists():  # Check if the file exists before reading\n",
    "        embedding_dfs.append(pd.read_csv(file_path))\n",
    "\n",
    "df1a = embedding_dfs[0]\n",
    "df2a = embedding_dfs[1]\n",
    "df3a = embedding_dfs[2]\n",
    "df4a = embedding_dfs[3]\n",
    "\n",
    "df1 = df1a.loc[:, ~df1a.columns.str.contains(\"Cluster\", case=False)]\n",
    "df2 = df2a.loc[:, ~df2a.columns.str.contains(\"Cluster\", case=False)]\n",
    "df3 = df3a.loc[:, ~df3a.columns.str.contains(\"Cluster\", case=False)]\n",
    "df4 = df4a.loc[:, ~df4a.columns.str.contains(\"Cluster\", case=False)]\n",
    "\n",
    "\n",
    "# Function to extract embeddings and normalize them\n",
    "def normalize_embeddings(df):\n",
    "    embeddings = df[\"Embeddings\"].apply(lambda x: np.array(ast.literal_eval(x)) if isinstance(x, str) else np.array(x))\n",
    "    embeddings_matrix = np.vstack(embeddings.values)\n",
    "    scaler = StandardScaler()\n",
    "    embeddings_scaled = scaler.fit_transform(embeddings_matrix)\n",
    "    df[\"Embeddings_S\"] = list(map(lambda x: x.tolist(), embeddings_scaled))\n",
    "    \n",
    "    return embeddings_scaled\n",
    "\n",
    "# Normalize embeddings without modifying the \"Embeddings\" column\n",
    "embeddings_scaled1 = normalize_embeddings(df1)\n",
    "embeddings_scaled2 = normalize_embeddings(df2)\n",
    "embeddings_scaled3 = normalize_embeddings(df3)\n",
    "embeddings_scaled4 = normalize_embeddings(df4)\n",
    "\n",
    "# UMAP Dimensionality Reduction to 3D\n",
    "umap_3d = umap.UMAP(n_components=3, n_neighbors=30, min_dist=0.1, metric='cosine', random_state=42)\n",
    "\n",
    "# Operate by group\n",
    "embedding1_3d = umap_3d.fit_transform(embeddings_scaled1)\n",
    "embedding2_3d = umap_3d.fit_transform(embeddings_scaled2)\n",
    "embedding3_3d = umap_3d.fit_transform(embeddings_scaled3)\n",
    "embedding4_3d = umap_3d.fit_transform(embeddings_scaled4)"
   ]
  },
  {
   "cell_type": "code",
   "execution_count": null,
   "id": "bea615d0-9ac4-4e1d-ad04-6c97b3640e59",
   "metadata": {},
   "outputs": [],
   "source": [
    "###' ################################################################################\n",
    "###'\n",
    "###' Elbow Function\n",
    "###'\n",
    "###'\n",
    "\n",
    "# Function to calculate the Within-Cluster Sum of Squares (WCSS) for different cluster sizes\n",
    "def plot_elbow_method(embeddings_matrix, max_clusters=9):\n",
    "    wcss = []  # List to store WCSS for each number of clusters\n",
    "    \n",
    "    for k in range(2, max_clusters + 1):\n",
    "        kmeans = KMeans(n_clusters=k, random_state=42, n_init=30)\n",
    "        kmeans.fit(embeddings_matrix)\n",
    "        wcss.append(kmeans.inertia_)  # Inertia is the sum of squared distances to the closest centroid\n",
    "    \n",
    "    # Plot Elbow Graph\n",
    "    plt.figure(figsize=(8, 5))\n",
    "    plt.plot(range(2, max_clusters + 1), wcss, marker='o', linestyle='-', color='b')\n",
    "    plt.xlabel(\"Number of Clusters\")\n",
    "    plt.ylabel(\"WCSS (Within-Cluster Sum of Squares)\")\n",
    "    plt.title(\"Elbow Method for Optimal k\")\n",
    "    plt.xticks(range(1, max_clusters + 1))\n",
    "    plt.grid()\n",
    "    plt.show()"
   ]
  },
  {
   "cell_type": "code",
   "execution_count": null,
   "id": "e50c9ca5-b174-4837-8c26-ae71ba87bc81",
   "metadata": {},
   "outputs": [],
   "source": []
  },
  {
   "cell_type": "markdown",
   "id": "4b27f657-6237-44ee-bbb1-78a15157f662",
   "metadata": {},
   "source": [
    "## Group1. Spectral Clustering"
   ]
  },
  {
   "cell_type": "code",
   "execution_count": null,
   "id": "6f8d831e-5090-40b3-9b62-498ec9773d93",
   "metadata": {},
   "outputs": [],
   "source": [
    "plot_elbow_method(embedding1_3d)"
   ]
  },
  {
   "cell_type": "code",
   "execution_count": null,
   "id": "64190fd0-bc4f-49cc-bea9-ad440060b558",
   "metadata": {},
   "outputs": [],
   "source": []
  },
  {
   "cell_type": "code",
   "execution_count": null,
   "id": "9ef74cec",
   "metadata": {},
   "outputs": [],
   "source": []
  },
  {
   "cell_type": "markdown",
   "id": "dc470125-c945-44a8-9947-d64df157d84e",
   "metadata": {},
   "source": [
    "## Group2. Spectral Clustering"
   ]
  },
  {
   "cell_type": "code",
   "execution_count": null,
   "id": "cfff6f26",
   "metadata": {},
   "outputs": [],
   "source": [
    "# Run the Elbow Method function to determine the optimal number of clusters\n",
    "plot_elbow_method(embedding2_3d)"
   ]
  },
  {
   "cell_type": "code",
   "execution_count": null,
   "id": "856399d1-b1dd-4b72-a4dc-2d4f334b466d",
   "metadata": {},
   "outputs": [],
   "source": [
    "###' ################################################################################\n",
    "###'\n",
    "###' Special Trial3\n",
    "###' : DBSCANClustering\n",
    "###'\n",
    "###'\n",
    "\n",
    "from sklearn.mixture import GaussianMixture\n",
    "\n",
    "num_clusters = 4\n",
    "gmm = GaussianMixture(n_components=num_clusters)\n",
    "labels_3_2 = gmm.fit_predict(embedding2_3d)\n",
    "\n",
    "\n",
    "# Create 3D scatter plot\n",
    "fig = plt.figure(figsize=(10, 7))\n",
    "ax = fig.add_subplot(111, projection='3d')\n",
    "\n",
    "# Scatter plot\n",
    "scatter = ax.scatter(\n",
    "    embedding2_3d[:, 0], embedding2_3d[:, 1], embedding2_3d[:, 2], \n",
    "    c=labels_3_2, cmap=\"tab10\", alpha=0.6\n",
    ")\n",
    "\n",
    "# Labels and Title\n",
    "ax.set_title(\"Word Clusters Based on Abstract Embeddings (3D)\")\n",
    "ax.set_xlabel(\"UMAP Dimension 1\")\n",
    "ax.set_ylabel(\"UMAP Dimension 2\")\n",
    "ax.set_zlabel(\"UMAP Dimension 3\")\n",
    "\n",
    "# Add legend\n",
    "legend1 = ax.legend(*scatter.legend_elements(), title=\"Cluster\")\n",
    "ax.add_artist(legend1)\n",
    "\n",
    "# Show plot\n",
    "plt.show()"
   ]
  },
  {
   "cell_type": "code",
   "execution_count": null,
   "id": "1c494d4c-b5d6-4570-afaf-14a17247014a",
   "metadata": {},
   "outputs": [],
   "source": []
  },
  {
   "cell_type": "code",
   "execution_count": null,
   "id": "cbfcb629-1807-47e4-bf0a-4139b8dbd21d",
   "metadata": {},
   "outputs": [],
   "source": []
  },
  {
   "cell_type": "code",
   "execution_count": null,
   "id": "1aecfcf5-6d20-4be4-a803-6d4122a984f7",
   "metadata": {},
   "outputs": [],
   "source": []
  },
  {
   "cell_type": "markdown",
   "id": "c9d39e0f-f708-4830-a318-3a7d174f448e",
   "metadata": {},
   "source": [
    "## Group3. Spectral Clustering"
   ]
  },
  {
   "cell_type": "code",
   "execution_count": null,
   "id": "76a735ba-c2c3-414d-b013-d9f1d9aaeecd",
   "metadata": {},
   "outputs": [],
   "source": [
    "# Run the Elbow Method function to determine the optimal number of clusters\n",
    "plot_elbow_method(embedding3_3d)"
   ]
  },
  {
   "cell_type": "code",
   "execution_count": null,
   "id": "47d0e177-01ba-492f-87d6-c9c3bc33ac7f",
   "metadata": {},
   "outputs": [],
   "source": []
  },
  {
   "cell_type": "markdown",
   "id": "bdb34855-a21e-404c-83cb-eb60a33689d0",
   "metadata": {},
   "source": [
    "## Group4. Spectral Clustering"
   ]
  },
  {
   "cell_type": "code",
   "execution_count": null,
   "id": "fb531f8d-ff9b-416f-b84c-374b216478e5",
   "metadata": {},
   "outputs": [],
   "source": [
    "# Run the Elbow Method function to determine the optimal number of clusters\n",
    "plot_elbow_method(embedding4_3d)"
   ]
  },
  {
   "cell_type": "code",
   "execution_count": null,
   "id": "2c86d1d0-f4b3-4755-87d1-e81f6f59ea7f",
   "metadata": {},
   "outputs": [],
   "source": [
    "###' ################################################################################\n",
    "###'\n",
    "###' Special Trial2\n",
    "###' : AgglomerativeClustering\n",
    "###'\n",
    "###'\n",
    "\n",
    "from sklearn.cluster import AgglomerativeClustering\n",
    "spectral_embedding = spectral.affinity_matrix_  # You can use the spectral embedding as input\n",
    "\n",
    "num_clusters = 5\n",
    "agg_clustering = AgglomerativeClustering(n_clusters=num_clusters)\n",
    "labels_1_4 = agg_clustering.fit_predict(embedding4_3d)\n",
    "\n",
    "df4[\"Cluster\"] = labels_1_4\n",
    "\n",
    "# Define custom colors for each cluster\n",
    "cmap = plt.get_cmap(\"tab10\")\n",
    "\n",
    "# Create 3D scatter plot\n",
    "fig = plt.figure(figsize=(10, 7))\n",
    "ax = fig.add_subplot(111, projection='3d')\n",
    "\n",
    "# Scatter plot\n",
    "scatter = ax.scatter(\n",
    "    embedding4_3d[:, 2], embedding4_3d[:, 1], embedding4_3d[:, 0], \n",
    "    c=labels_1_4, cmap=cmap, alpha=0.6\n",
    ")\n",
    "\n",
    "# Labels and Title\n",
    "ax.set_title(\"GROUP4: Agglomerative Clustering Based on Abstract Embeddings\")\n",
    "ax.set_xlabel(\"UMAP Dimension 1\")\n",
    "ax.set_ylabel(\"UMAP Dimension 2\")\n",
    "ax.set_zlabel(\"UMAP Dimension 3\")\n",
    "\n",
    "# Add legend\n",
    "legend1 = ax.legend(*scatter.legend_elements(), title=\"Cluster\")\n",
    "ax.add_artist(legend1)\n",
    "\n",
    "# Show plot\n",
    "plt.show()"
   ]
  },
  {
   "cell_type": "code",
   "execution_count": null,
   "id": "5de70e23-c2a9-4633-a23e-9446723fb978",
   "metadata": {},
   "outputs": [],
   "source": []
  },
  {
   "cell_type": "code",
   "execution_count": null,
   "id": "66db5229-1c30-43e6-b049-a80738c374a0",
   "metadata": {},
   "outputs": [],
   "source": []
  },
  {
   "cell_type": "code",
   "execution_count": null,
   "id": "92cab73d-5d76-431c-8516-8585096fa26d",
   "metadata": {},
   "outputs": [],
   "source": [
    "###' ################################################################################\n",
    "###'\n",
    "###' Saving\n",
    "###'\n",
    "###'\n",
    "\n",
    "file_path1 = data_dir / \"articles_4_clustering1.csv\"\n",
    "df1.to_csv(file_path1, index=False)\n",
    "\n",
    "file_path2 = data_dir / \"articles_4_clustering2.csv\"\n",
    "df2.to_csv(file_path2, index=False)\n",
    "\n",
    "file_path3 = data_dir / \"articles_4_clustering3.csv\"\n",
    "df3.to_csv(file_path3, index=False)\n",
    "\n",
    "file_path4 = data_dir / \"articles_4_clustering4.csv\"\n",
    "df4.to_csv(file_path4, index=False)"
   ]
  },
  {
   "cell_type": "code",
   "execution_count": null,
   "id": "26e103d9-3c90-4119-bf4a-35b766e0d57b",
   "metadata": {},
   "outputs": [],
   "source": []
  },
  {
   "cell_type": "code",
   "execution_count": null,
   "id": "98a0b299-2fa6-4964-851f-a4ea40c1cb1e",
   "metadata": {},
   "outputs": [],
   "source": []
  }
 ],
 "metadata": {
  "kernelspec": {
   "display_name": "Python 3 (ipykernel)",
   "language": "python",
   "name": "python3"
  },
  "language_info": {
   "codemirror_mode": {
    "name": "ipython",
    "version": 3
   },
   "file_extension": ".py",
   "mimetype": "text/x-python",
   "name": "python",
   "nbconvert_exporter": "python",
   "pygments_lexer": "ipython3",
   "version": "3.12.8"
  }
 },
 "nbformat": 4,
 "nbformat_minor": 5
}
