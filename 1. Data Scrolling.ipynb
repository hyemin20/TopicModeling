{
 "cells": [
  {
   "cell_type": "code",
   "execution_count": null,
   "id": "a3b0c4e1",
   "metadata": {},
   "outputs": [],
   "source": [
    "#reference\n",
    "#https://realpython.com/python-web-scraping-practical-introduction/"
   ]
  },
  {
   "cell_type": "code",
   "execution_count": null,
   "id": "5eac5082",
   "metadata": {},
   "outputs": [],
   "source": [
    "import os\n",
    "os.getcwd()"
   ]
  },
  {
   "cell_type": "markdown",
   "id": "92531c84",
   "metadata": {},
   "source": [
    "# 1. method 1"
   ]
  },
  {
   "cell_type": "code",
   "execution_count": null,
   "id": "f12e88a6",
   "metadata": {},
   "outputs": [],
   "source": [
    "from urllib.request import urlopen"
   ]
  },
  {
   "cell_type": "code",
   "execution_count": null,
   "id": "23b6d065",
   "metadata": {},
   "outputs": [],
   "source": [
    "url = \"http://olympus.realpython.org/profiles/aphrodite\""
   ]
  },
  {
   "cell_type": "code",
   "execution_count": null,
   "id": "9ce1ab05",
   "metadata": {},
   "outputs": [],
   "source": [
    "page = urlopen(url)"
   ]
  },
  {
   "cell_type": "code",
   "execution_count": null,
   "id": "a8d472ab",
   "metadata": {},
   "outputs": [],
   "source": [
    "html_bytes = page.read()\n",
    "html = html_bytes.decode(\"utf-8\")"
   ]
  },
  {
   "cell_type": "code",
   "execution_count": null,
   "id": "0168fd63",
   "metadata": {},
   "outputs": [],
   "source": [
    "print(html)"
   ]
  },
  {
   "cell_type": "code",
   "execution_count": null,
   "id": "4875732d",
   "metadata": {},
   "outputs": [],
   "source": [
    "title_index = html.find(\"<title>\")\n",
    "title_index"
   ]
  },
  {
   "cell_type": "code",
   "execution_count": null,
   "id": "64d562b8",
   "metadata": {},
   "outputs": [],
   "source": [
    "start_index = title_index + len(\"<title>\")\n",
    "end_index = html.find(\"</title>\")\n",
    "title = html[start_index:end_index]\n",
    "title"
   ]
  },
  {
   "cell_type": "code",
   "execution_count": null,
   "id": "ce6ccba2",
   "metadata": {},
   "outputs": [],
   "source": []
  },
  {
   "cell_type": "code",
   "execution_count": null,
   "id": "447846db",
   "metadata": {},
   "outputs": [],
   "source": [
    "import re"
   ]
  },
  {
   "cell_type": "code",
   "execution_count": null,
   "id": "e867ade5",
   "metadata": {},
   "outputs": [],
   "source": [
    "re.findall(\"ab*c\", \"AC\", re.IGNORECASE)"
   ]
  },
  {
   "cell_type": "code",
   "execution_count": null,
   "id": "4f735953",
   "metadata": {},
   "outputs": [],
   "source": [
    "re.findall(\"a..c\", \"acac\")"
   ]
  },
  {
   "cell_type": "code",
   "execution_count": null,
   "id": "806634e9",
   "metadata": {},
   "outputs": [],
   "source": [
    "re.findall(\"a.*c\", \"acc\")"
   ]
  },
  {
   "cell_type": "code",
   "execution_count": null,
   "id": "e38e7d68",
   "metadata": {},
   "outputs": [],
   "source": [
    "match_results = re.search(\"ab*c\", \"ACabc\", re.IGNORECASE)\n",
    "match_results.group()"
   ]
  },
  {
   "cell_type": "code",
   "execution_count": null,
   "id": "86ce928f",
   "metadata": {},
   "outputs": [],
   "source": [
    "string = \"Everything is [asdfa] if it's in <asfasdf>.\"\n",
    "string = re.sub(r\"<.*?>\", \"HI\", string)\n",
    "string = re.sub(r\"\\[.*?\\]\", \"HYEMIN\", string)\n",
    "string"
   ]
  },
  {
   "cell_type": "code",
   "execution_count": null,
   "id": "7f97d95e",
   "metadata": {},
   "outputs": [],
   "source": []
  },
  {
   "cell_type": "markdown",
   "id": "829e751f",
   "metadata": {},
   "source": [
    "# 2. method 2"
   ]
  },
  {
   "cell_type": "code",
   "execution_count": null,
   "id": "4c3d6cb8",
   "metadata": {},
   "outputs": [],
   "source": [
    "import re\n",
    "from urllib.request import urlopen"
   ]
  },
  {
   "cell_type": "code",
   "execution_count": null,
   "id": "f939371e",
   "metadata": {},
   "outputs": [],
   "source": [
    "url = \"http://olympus.realpython.org/profiles/dionysus\"\n",
    "page = urlopen(url)\n",
    "html = page.read().decode(\"utf-8\")\n",
    "print(html)"
   ]
  },
  {
   "cell_type": "code",
   "execution_count": null,
   "id": "cd392636",
   "metadata": {},
   "outputs": [],
   "source": [
    "pattern = \"<title.*?>.*?</title.*?>\"\n",
    "match_results = re.search(pattern, html, re.IGNORECASE)\n",
    "title = match_results.group()\n",
    "title = re.sub(\"<.*?>\", \"\", title) # Remove HTML tags\n",
    "\n",
    "print(title)"
   ]
  },
  {
   "cell_type": "code",
   "execution_count": null,
   "id": "f37fd8bd",
   "metadata": {},
   "outputs": [],
   "source": [
    "string = \"Name: \"\n",
    "string_start_idx = html.find(string)\n",
    "text_start_idx = string_start_idx + len(string)\n",
    "\n",
    "next_html_tag_offset = html[text_start_idx:].find(\"<\")\n",
    "text_end_idx = text_start_idx + next_html_tag_offset\n",
    "\n",
    "raw_text = html[text_start_idx : text_end_idx]\n",
    "clean_text = raw_text.strip(\" \\r\\n\\t\") #시작과 끝 공백 제거\n",
    "print(clean_text)"
   ]
  },
  {
   "cell_type": "code",
   "execution_count": null,
   "id": "11f632d4",
   "metadata": {},
   "outputs": [],
   "source": [
    "string = \"Favorite Color: \"\n",
    "string_start_idx = html.find(string)\n",
    "text_start_idx = string_start_idx + len(string)\n",
    "\n",
    "next_html_tag_offset = html[text_start_idx:].find(\"<\")\n",
    "text_end_idx = text_start_idx + next_html_tag_offset\n",
    "\n",
    "raw_text = html[text_start_idx : text_end_idx]\n",
    "clean_text = raw_text.strip(\" \\r\\n\\t\") #시작과 끝 공백 제거\n",
    "print(clean_text)"
   ]
  },
  {
   "cell_type": "code",
   "execution_count": null,
   "id": "1c4aeb5b",
   "metadata": {},
   "outputs": [],
   "source": [
    "for string in [\"Name: \", \"Favorite Color: \"]:\n",
    "    string_start_idx = html.find(string)\n",
    "    text_start_idx = string_start_idx + len(string)\n",
    "\n",
    "    next_html_tag_offset = html[text_start_idx:].find(\"<\")\n",
    "    text_end_idx = text_start_idx + next_html_tag_offset\n",
    "\n",
    "    raw_text = html[text_start_idx : text_end_idx]\n",
    "    clean_text = raw_text.strip(\" \\r\\n\\t\")\n",
    "    print(clean_text)"
   ]
  },
  {
   "cell_type": "code",
   "execution_count": null,
   "id": "c32436d1",
   "metadata": {},
   "outputs": [],
   "source": []
  },
  {
   "cell_type": "markdown",
   "id": "d4dbd8e3",
   "metadata": {},
   "source": [
    "# 3. method 3"
   ]
  },
  {
   "cell_type": "code",
   "execution_count": null,
   "id": "87f995ae",
   "metadata": {},
   "outputs": [],
   "source": [
    "from bs4 import BeautifulSoup\n",
    "from urllib.request import urlopen\n",
    "\n",
    "url = \"http://olympus.realpython.org/profiles/dionysus\"\n",
    "page = urlopen(url)\n",
    "html = page.read().decode(\"utf-8\")\n",
    "soup = BeautifulSoup(html, \"html.parser\")"
   ]
  },
  {
   "cell_type": "code",
   "execution_count": null,
   "id": "232a0108",
   "metadata": {},
   "outputs": [],
   "source": [
    "soup"
   ]
  },
  {
   "cell_type": "code",
   "execution_count": null,
   "id": "360941b5",
   "metadata": {
    "scrolled": true
   },
   "outputs": [],
   "source": [
    "print(soup.get_text())"
   ]
  },
  {
   "cell_type": "code",
   "execution_count": null,
   "id": "2b434b23",
   "metadata": {},
   "outputs": [],
   "source": [
    "soup.find_all(\"img\")"
   ]
  },
  {
   "cell_type": "code",
   "execution_count": null,
   "id": "95956185",
   "metadata": {},
   "outputs": [],
   "source": [
    "image1, image2 = soup.find_all(\"img\")\n",
    "image1.name\n",
    "image1[\"src\"]"
   ]
  },
  {
   "cell_type": "code",
   "execution_count": null,
   "id": "2d8575de",
   "metadata": {},
   "outputs": [],
   "source": [
    "soup.title.string"
   ]
  },
  {
   "cell_type": "code",
   "execution_count": null,
   "id": "810fda11",
   "metadata": {},
   "outputs": [],
   "source": []
  },
  {
   "cell_type": "code",
   "execution_count": null,
   "id": "bf79f907",
   "metadata": {},
   "outputs": [],
   "source": [
    "from bs4 import BeautifulSoup\n",
    "from urllib.request import urlopen\n",
    "\n",
    "base_url = \"http://olympus.realpython.org\"\n",
    "page = urlopen(base_url + \"/profiles\")\n",
    "html = page.read().decode(\"utf-8\")\n",
    "soup = BeautifulSoup(html, \"html.parser\")"
   ]
  },
  {
   "cell_type": "code",
   "execution_count": null,
   "id": "8c8e9d58",
   "metadata": {},
   "outputs": [],
   "source": [
    "soup.find_all(\"a\")"
   ]
  },
  {
   "cell_type": "code",
   "execution_count": null,
   "id": "793b2546",
   "metadata": {},
   "outputs": [],
   "source": [
    "for link in soup.find_all(\"a\"):\n",
    "    link_url = base_url + link[\"href\"]\n",
    "    print(link_url)"
   ]
  },
  {
   "cell_type": "code",
   "execution_count": null,
   "id": "272cf057",
   "metadata": {},
   "outputs": [],
   "source": []
  },
  {
   "cell_type": "markdown",
   "id": "6be86262",
   "metadata": {},
   "source": [
    "# 4. method 4 (Interact)"
   ]
  },
  {
   "cell_type": "code",
   "execution_count": null,
   "id": "6f763d47",
   "metadata": {},
   "outputs": [],
   "source": [
    "# !pip install mechanicalsoup"
   ]
  },
  {
   "cell_type": "code",
   "execution_count": null,
   "id": "35d6c13d",
   "metadata": {},
   "outputs": [],
   "source": [
    "import mechanicalsoup\n",
    "browser = mechanicalsoup.Browser()"
   ]
  },
  {
   "cell_type": "code",
   "execution_count": null,
   "id": "da2d1c9f",
   "metadata": {},
   "outputs": [],
   "source": [
    "# \"https://www.tandfonline.com/loi/cedr20\"\n",
    "# \"https://www.linkedin.com/feed/\"\n",
    "url = \"https://www.jstor.org/stable/i262425\"\n",
    "page = browser.get(url)\n",
    "page"
   ]
  },
  {
   "cell_type": "code",
   "execution_count": null,
   "id": "31d519f4",
   "metadata": {
    "scrolled": false
   },
   "outputs": [],
   "source": [
    "html = page.soup\n",
    "html"
   ]
  },
  {
   "cell_type": "code",
   "execution_count": null,
   "id": "0f661b58",
   "metadata": {},
   "outputs": [],
   "source": [
    "form = html.select(\"form\")[0]\n",
    "form.select(\"input\")[0][\"value\"] = \"zeus\"\n",
    "form.select(\"input\")[1][\"value\"] = \"ThunderDude\"\n",
    "profiles_page = browser.submit(form, page.url)\n",
    "profiles_page.url"
   ]
  },
  {
   "cell_type": "code",
   "execution_count": null,
   "id": "dd286be0",
   "metadata": {
    "scrolled": true
   },
   "outputs": [],
   "source": [
    "links = profiles_page.soup.select(\"a\")\n",
    "links"
   ]
  },
  {
   "cell_type": "code",
   "execution_count": null,
   "id": "0c5e7157",
   "metadata": {
    "scrolled": true
   },
   "outputs": [],
   "source": [
    "base_url = \"http://olympus.realpython.org\"\n",
    "for link in links:\n",
    "    address = base_url + link[\"href\"]\n",
    "    text = link.text\n",
    "    print(f\"{text}: {address}\")"
   ]
  },
  {
   "cell_type": "markdown",
   "id": "3e44cc71",
   "metadata": {
    "scrolled": true
   },
   "source": [
    "## 4.1 apply"
   ]
  },
  {
   "cell_type": "code",
   "execution_count": null,
   "id": "324c37ca",
   "metadata": {
    "scrolled": true
   },
   "outputs": [],
   "source": [
    "callibrary_url = \"https://auth.berkeley.edu/cas/login?service=https%3A%2F%2Fsearch.library.berkeley.edu%2Finfra%2FcasRedirect?ctx=/primaws\"\n",
    "callibrary_page = browser.get(callibrary_url)\n",
    "callibrary_page    "
   ]
  },
  {
   "cell_type": "code",
   "execution_count": null,
   "id": "db036164",
   "metadata": {},
   "outputs": [],
   "source": [
    "callibrary = callibrary_page.soup\n",
    "callibrary"
   ]
  },
  {
   "cell_type": "code",
   "execution_count": null,
   "id": "e25d867f",
   "metadata": {
    "scrolled": true
   },
   "outputs": [],
   "source": []
  },
  {
   "cell_type": "markdown",
   "id": "dc7b2cfb",
   "metadata": {
    "scrolled": true
   },
   "source": [
    "## 4.2. example"
   ]
  },
  {
   "cell_type": "code",
   "execution_count": null,
   "id": "559b9411",
   "metadata": {},
   "outputs": [],
   "source": [
    "url = \"http://olympus.realpython.org/login\"\n",
    "page = browser.get(url)\n",
    "html = page.soup\n",
    "form = html.select(\"form\")[0]\n",
    "form.select(\"input\")[0][\"value\"] = \"zeus\"\n",
    "form.select(\"input\")[1][\"value\"] = \"ThunderDude\"\n",
    "profiles_page = browser.submit(form, page.url)\n",
    "profiles_page.url"
   ]
  },
  {
   "cell_type": "code",
   "execution_count": null,
   "id": "92a736fe",
   "metadata": {},
   "outputs": [],
   "source": [
    "links = profiles_page.soup.select(\"title\")\n",
    "texts = [link.text for link in links]\n",
    "texts"
   ]
  },
  {
   "cell_type": "code",
   "execution_count": null,
   "id": "223afe1f",
   "metadata": {},
   "outputs": [],
   "source": [
    "links = profiles_page.soup\n",
    "links"
   ]
  },
  {
   "cell_type": "code",
   "execution_count": null,
   "id": "baa42595",
   "metadata": {},
   "outputs": [],
   "source": []
  },
  {
   "cell_type": "markdown",
   "id": "7eac5821",
   "metadata": {},
   "source": [
    "# 5. method 5 (Interact Real TIme)"
   ]
  },
  {
   "cell_type": "code",
   "execution_count": null,
   "id": "fad6f6d0",
   "metadata": {},
   "outputs": [],
   "source": [
    "import time"
   ]
  },
  {
   "cell_type": "code",
   "execution_count": null,
   "id": "9d6c972c",
   "metadata": {},
   "outputs": [],
   "source": [
    "url = \"http://olympus.realpython.org/dice\"\n",
    "page = browser.get(url)\n",
    "html = page.soup.select(\"#result\")[0]\n",
    "result = html.text\n",
    "result"
   ]
  },
  {
   "cell_type": "code",
   "execution_count": null,
   "id": "6e10e37e",
   "metadata": {},
   "outputs": [],
   "source": [
    "print(\"I'm about to wait for five seconds...\")\n",
    "time.sleep(5)\n",
    "print(\"Done waiting!\")"
   ]
  },
  {
   "cell_type": "code",
   "execution_count": null,
   "id": "ba33e81d",
   "metadata": {},
   "outputs": [],
   "source": [
    "browser = mechanicalsoup.Browser()\n",
    "\n",
    "for i in range(4):\n",
    "    page = browser.get(\"http://olympus.realpython.org/dice\")\n",
    "    tag = page.soup.select(\"#result\")[0]\n",
    "    result = tag.text\n",
    "    print(f\"The result of your dice roll is: {result}\")\n",
    "\n",
    "    # Wait 10 seconds if this isn't the last request\n",
    "    if i < 3:\n",
    "        time.sleep(3)"
   ]
  },
  {
   "cell_type": "code",
   "execution_count": null,
   "id": "b13d5544",
   "metadata": {},
   "outputs": [],
   "source": []
  },
  {
   "cell_type": "code",
   "execution_count": null,
   "id": "5a8ec8b0",
   "metadata": {},
   "outputs": [],
   "source": []
  },
  {
   "cell_type": "markdown",
   "id": "e007a03a",
   "metadata": {},
   "source": [
    "# 6. dataframe (frontier in psychology)"
   ]
  },
  {
   "cell_type": "code",
   "execution_count": 7,
   "id": "bdefa19b",
   "metadata": {},
   "outputs": [],
   "source": [
    "import requests\n",
    "import pandas as pd\n",
    "from selenium import webdriver\n",
    "from bs4 import BeautifulSoup\n",
    "from urllib.request import urlopen\n",
    "from selenium.webdriver.common.by import By\n",
    "from selenium.webdriver.support.ui import WebDriverWait\n",
    "from selenium.webdriver.support import expected_conditions as EC\n",
    "from selenium.webdriver.common.action_chains import ActionChains\n",
    "import time\n",
    "import re"
   ]
  },
  {
   "cell_type": "markdown",
   "id": "6a6164f5",
   "metadata": {},
   "source": [
    "##### Bring URL and HTML\n",
    "url = \"https://www.frontiersin.org/journals/psychology/articles/10.3389/fpsyg.2024.1487146/full\"\n",
    "headers = {'User-Agent': 'Mozilla/5.0'}\n",
    "response = requests.get(url, headers=headers)\n",
    "soup = BeautifulSoup(response.text, 'html.parser')"
   ]
  },
  {
   "cell_type": "markdown",
   "id": "aad3bcdb",
   "metadata": {},
   "source": [
    "##### Convert BeautifulSoup object to string\n",
    "html_content = str(soup)\n",
    "\n",
    "##### Search for title pattern\n",
    "pattern = \"<title.*?>.*?</title.*?>\"\n",
    "match_results = re.search(pattern, html_content, re.IGNORECASE)\n",
    "title = match_results.group() if match_results else \"No title found\"\n",
    "title = re.sub(\"<.*?>\", \"\", title)  # Remove HTML tags\n",
    "\n",
    "print(title)"
   ]
  },
  {
   "cell_type": "markdown",
   "id": "91e360e6",
   "metadata": {},
   "source": [
    "##### https://www.frontiersin.org/journals/psychology/articles?publication-date=25%2F10%2F2024-25%2F10%2F2024"
   ]
  },
  {
   "cell_type": "code",
   "execution_count": 10,
   "id": "1f6af844",
   "metadata": {},
   "outputs": [
    {
     "name": "stdout",
     "output_type": "stream",
     "text": [
      "Articles loaded: 32, Retries: 0\n",
      "Articles loaded: 48, Retries: 0\n",
      "Articles loaded: 64, Retries: 0\n",
      "Articles loaded: 80, Retries: 0\n",
      "Articles loaded: 96, Retries: 0\n",
      "Articles loaded: 112, Retries: 0\n",
      "Articles loaded: 128, Retries: 0\n",
      "Articles loaded: 144, Retries: 0\n",
      "Articles loaded: 160, Retries: 0\n",
      "Articles loaded: 176, Retries: 0\n",
      "Articles loaded: 192, Retries: 0\n",
      "Articles loaded: 208, Retries: 0\n",
      "Articles loaded: 224, Retries: 0\n",
      "Articles loaded: 240, Retries: 0\n",
      "Articles loaded: 256, Retries: 0\n",
      "Articles loaded: 272, Retries: 0\n",
      "Articles loaded: 288, Retries: 0\n",
      "Articles loaded: 304, Retries: 0\n",
      "Articles loaded: 320, Retries: 0\n",
      "Articles loaded: 336, Retries: 0\n",
      "Articles loaded: 352, Retries: 0\n",
      "Articles loaded: 368, Retries: 0\n",
      "Articles loaded: 384, Retries: 0\n",
      "Articles loaded: 400, Retries: 0\n",
      "Articles loaded: 416, Retries: 0\n",
      "Articles loaded: 432, Retries: 0\n",
      "Articles loaded: 448, Retries: 0\n",
      "Articles loaded: 464, Retries: 0\n",
      "Articles loaded: 480, Retries: 0\n",
      "Articles loaded: 496, Retries: 0\n",
      "Articles loaded: 512, Retries: 0\n",
      "Articles loaded: 528, Retries: 0\n",
      "Articles loaded: 544, Retries: 0\n",
      "Articles loaded: 560, Retries: 0\n",
      "Articles loaded: 576, Retries: 0\n",
      "Articles loaded: 592, Retries: 0\n",
      "Articles loaded: 608, Retries: 0\n",
      "Articles loaded: 624, Retries: 0\n",
      "Articles loaded: 640, Retries: 0\n",
      "Articles loaded: 656, Retries: 0\n",
      "Articles loaded: 672, Retries: 0\n",
      "Articles loaded: 688, Retries: 0\n",
      "Articles loaded: 704, Retries: 0\n",
      "Articles loaded: 720, Retries: 0\n",
      "Articles loaded: 736, Retries: 0\n",
      "Articles loaded: 752, Retries: 0\n",
      "Articles loaded: 768, Retries: 0\n",
      "Articles loaded: 784, Retries: 0\n",
      "Articles loaded: 792, Retries: 0\n",
      "Articles loaded: 792, Retries: 1\n",
      "Articles loaded: 792, Retries: 2\n",
      "Articles loaded: 792, Retries: 3\n",
      "Articles loaded: 792, Retries: 4\n",
      "Articles loaded: 792, Retries: 5\n",
      "Articles loaded: 792, Retries: 6\n",
      "Articles loaded: 792, Retries: 7\n",
      "Articles loaded: 792, Retries: 8\n"
     ]
    },
    {
     "data": {
      "text/html": [
       "<div>\n",
       "<style scoped>\n",
       "    .dataframe tbody tr th:only-of-type {\n",
       "        vertical-align: middle;\n",
       "    }\n",
       "\n",
       "    .dataframe tbody tr th {\n",
       "        vertical-align: top;\n",
       "    }\n",
       "\n",
       "    .dataframe thead th {\n",
       "        text-align: right;\n",
       "    }\n",
       "</style>\n",
       "<table border=\"1\" class=\"dataframe\">\n",
       "  <thead>\n",
       "    <tr style=\"text-align: right;\">\n",
       "      <th></th>\n",
       "      <th>Title</th>\n",
       "      <th>Type</th>\n",
       "      <th>Published Date</th>\n",
       "      <th>Link</th>\n",
       "    </tr>\n",
       "  </thead>\n",
       "  <tbody>\n",
       "    <tr>\n",
       "      <th>0</th>\n",
       "      <td>Inter-trial priming does not affect attentiona...</td>\n",
       "      <td>Original Research</td>\n",
       "      <td>Published on 29 Aug 2014</td>\n",
       "      <td>https://www.frontiersin.org/journals/psycholog...</td>\n",
       "    </tr>\n",
       "    <tr>\n",
       "      <th>1</th>\n",
       "      <td>Rapid heartbeat, but dry palms: reactions of h...</td>\n",
       "      <td>Original Research</td>\n",
       "      <td>Published on 29 Aug 2014</td>\n",
       "      <td>https://www.frontiersin.org/journals/psycholog...</td>\n",
       "    </tr>\n",
       "    <tr>\n",
       "      <th>2</th>\n",
       "      <td>Perceptual and contextual awareness: methodolo...</td>\n",
       "      <td>Mini Review</td>\n",
       "      <td>Published on 29 Aug 2014</td>\n",
       "      <td>https://www.frontiersin.org/journals/psycholog...</td>\n",
       "    </tr>\n",
       "    <tr>\n",
       "      <th>3</th>\n",
       "      <td>Limits to the usability of iconic memory</td>\n",
       "      <td>Original Research</td>\n",
       "      <td>Published on 29 Aug 2014</td>\n",
       "      <td>https://www.frontiersin.org/journals/psycholog...</td>\n",
       "    </tr>\n",
       "    <tr>\n",
       "      <th>4</th>\n",
       "      <td>A non-reductive science of personality, charac...</td>\n",
       "      <td>Opinion</td>\n",
       "      <td>Published on 28 Aug 2014</td>\n",
       "      <td>https://www.frontiersin.org/journals/psycholog...</td>\n",
       "    </tr>\n",
       "  </tbody>\n",
       "</table>\n",
       "</div>"
      ],
      "text/plain": [
       "                                               Title               Type  \\\n",
       "0  Inter-trial priming does not affect attentiona...  Original Research   \n",
       "1  Rapid heartbeat, but dry palms: reactions of h...  Original Research   \n",
       "2  Perceptual and contextual awareness: methodolo...        Mini Review   \n",
       "3           Limits to the usability of iconic memory  Original Research   \n",
       "4  A non-reductive science of personality, charac...            Opinion   \n",
       "\n",
       "             Published Date                                               Link  \n",
       "0  Published on 29 Aug 2014  https://www.frontiersin.org/journals/psycholog...  \n",
       "1  Published on 29 Aug 2014  https://www.frontiersin.org/journals/psycholog...  \n",
       "2  Published on 29 Aug 2014  https://www.frontiersin.org/journals/psycholog...  \n",
       "3  Published on 29 Aug 2014  https://www.frontiersin.org/journals/psycholog...  \n",
       "4  Published on 28 Aug 2014  https://www.frontiersin.org/journals/psycholog...  "
      ]
     },
     "execution_count": 10,
     "metadata": {},
     "output_type": "execute_result"
    }
   ],
   "source": [
    "# Set up the WebDriver\n",
    "driver = webdriver.Chrome()\n",
    "\n",
    "# Open the page\n",
    "base_url = \"https://www.frontiersin.org/journals/psychology/articles\"\n",
    "url = base_url + \"?publication-date=01%2F03%2F2014-30%2F08%2F2014\"\n",
    "driver.get(url)\n",
    "\n",
    "# Set page zoom to 25%\n",
    "driver.execute_script(\"document.body.style.zoom='25%'\")\n",
    "\n",
    "# Accept cookies if the banner appears\n",
    "try:\n",
    "    accept_cookies_button = WebDriverWait(driver, 10).until(\n",
    "        EC.element_to_be_clickable((By.ID, \"onetrust-accept-btn-handler\"))\n",
    "    )\n",
    "    accept_cookies_button.click()\n",
    "except:\n",
    "    print(\"No cookie banner detected.\")\n",
    "\n",
    "# Wait for the first article to load\n",
    "WebDriverWait(driver, 10).until(\n",
    "    EC.presence_of_element_located((By.CLASS_NAME, \"CardArticle\"))\n",
    ")\n",
    "\n",
    "# Scroll and hover to trigger loading of new articles\n",
    "scroll_increment = 200  # Smaller increment for smoother scroll\n",
    "scroll_pause_time = 1.5 # Adjusted pause time to simulate user interaction\n",
    "max_retries = 8         # Retry limit if no new articles load\n",
    "retries = 0\n",
    "prev_article_count = 0\n",
    "\n",
    "# Scroll until all articles are loaded\n",
    "actions = ActionChains(driver)\n",
    "while retries < max_retries:\n",
    "    # Scroll by a small increment\n",
    "    driver.execute_script(\"window.scrollBy(0, arguments[0]);\", scroll_increment)\n",
    "    time.sleep(scroll_pause_time)\n",
    "\n",
    "    # Hover over the footer to trigger lazy loading if any exists\n",
    "    footer = driver.find_element(By.TAG_NAME, \"footer\")\n",
    "    actions.move_to_element(footer).perform()\n",
    "\n",
    "    # Check current number of articles loaded\n",
    "    html = driver.page_source\n",
    "    soup = BeautifulSoup(html, 'html.parser')\n",
    "    articles = soup.find_all(\"article\", class_=\"CardArticle\")\n",
    "    current_article_count = len(articles)\n",
    "\n",
    "    # Update retry count based on loaded articles\n",
    "    if current_article_count > prev_article_count:\n",
    "        prev_article_count = current_article_count\n",
    "        retries = 0  # Reset retries if new articles loaded\n",
    "    else:\n",
    "        retries += 1  # Increment retry count if no new articles load\n",
    "\n",
    "    print(f\"Articles loaded: {current_article_count}, Retries: {retries}\")\n",
    "\n",
    "# Ensure elements are fully loaded\n",
    "time.sleep(3)\n",
    "\n",
    "# Extract article information\n",
    "data = []\n",
    "for article in articles:\n",
    "    title = article.find(\"h1\", class_=\"CardArticle__title\").get_text(strip=True)\n",
    "    publish_date = article.find(\"p\", class_=\"CardArticle__date\").get_text(strip=True)\n",
    "    article_type = article.find(\"p\", class_=\"CardArticle__type\").get_text(strip=True)\n",
    "    link = article.find(\"a\", class_=\"CardArticle__wrapper\")[\"href\"]\n",
    "        \n",
    "    data.append({\n",
    "        \"Title\": title,\n",
    "        \"Type\": article_type,\n",
    "        \"Published Date\": publish_date,\n",
    "        \"Link\": link,\n",
    "    })\n",
    "\n",
    "# Close the driver\n",
    "driver.quit()\n",
    "\n",
    "# Convert to DataFrame and display\n",
    "df = pd.DataFrame(data)\n",
    "df.head(5)"
   ]
  },
  {
   "cell_type": "code",
   "execution_count": 11,
   "id": "5084118b",
   "metadata": {},
   "outputs": [
    {
     "data": {
      "text/html": [
       "<div>\n",
       "<style scoped>\n",
       "    .dataframe tbody tr th:only-of-type {\n",
       "        vertical-align: middle;\n",
       "    }\n",
       "\n",
       "    .dataframe tbody tr th {\n",
       "        vertical-align: top;\n",
       "    }\n",
       "\n",
       "    .dataframe thead th {\n",
       "        text-align: right;\n",
       "    }\n",
       "</style>\n",
       "<table border=\"1\" class=\"dataframe\">\n",
       "  <thead>\n",
       "    <tr style=\"text-align: right;\">\n",
       "      <th></th>\n",
       "      <th>Title</th>\n",
       "      <th>Type</th>\n",
       "      <th>Published Date</th>\n",
       "      <th>Link</th>\n",
       "    </tr>\n",
       "  </thead>\n",
       "  <tbody>\n",
       "  </tbody>\n",
       "</table>\n",
       "</div>"
      ],
      "text/plain": [
       "Empty DataFrame\n",
       "Columns: [Title, Type, Published Date, Link]\n",
       "Index: []"
      ]
     },
     "execution_count": 11,
     "metadata": {},
     "output_type": "execute_result"
    }
   ],
   "source": [
    "df.iloc[829:834]"
   ]
  },
  {
   "cell_type": "code",
   "execution_count": 12,
   "id": "159e75a6",
   "metadata": {},
   "outputs": [
    {
     "data": {
      "text/html": [
       "<div>\n",
       "<style scoped>\n",
       "    .dataframe tbody tr th:only-of-type {\n",
       "        vertical-align: middle;\n",
       "    }\n",
       "\n",
       "    .dataframe tbody tr th {\n",
       "        vertical-align: top;\n",
       "    }\n",
       "\n",
       "    .dataframe thead th {\n",
       "        text-align: right;\n",
       "    }\n",
       "</style>\n",
       "<table border=\"1\" class=\"dataframe\">\n",
       "  <thead>\n",
       "    <tr style=\"text-align: right;\">\n",
       "      <th></th>\n",
       "      <th>Title</th>\n",
       "      <th>Type</th>\n",
       "      <th>Published Date</th>\n",
       "      <th>Link</th>\n",
       "    </tr>\n",
       "  </thead>\n",
       "  <tbody>\n",
       "    <tr>\n",
       "      <th>0</th>\n",
       "      <td>Inter-trial priming does not affect attentiona...</td>\n",
       "      <td>Original Research</td>\n",
       "      <td>2014</td>\n",
       "      <td>https://www.frontiersin.org/journals/psycholog...</td>\n",
       "    </tr>\n",
       "    <tr>\n",
       "      <th>1</th>\n",
       "      <td>Rapid heartbeat, but dry palms: reactions of h...</td>\n",
       "      <td>Original Research</td>\n",
       "      <td>2014</td>\n",
       "      <td>https://www.frontiersin.org/journals/psycholog...</td>\n",
       "    </tr>\n",
       "    <tr>\n",
       "      <th>3</th>\n",
       "      <td>Limits to the usability of iconic memory</td>\n",
       "      <td>Original Research</td>\n",
       "      <td>2014</td>\n",
       "      <td>https://www.frontiersin.org/journals/psycholog...</td>\n",
       "    </tr>\n",
       "    <tr>\n",
       "      <th>5</th>\n",
       "      <td>Inter-synaptic learning of combination rules i...</td>\n",
       "      <td>Original Research</td>\n",
       "      <td>2014</td>\n",
       "      <td>https://www.frontiersin.org/journals/psycholog...</td>\n",
       "    </tr>\n",
       "    <tr>\n",
       "      <th>6</th>\n",
       "      <td>Cafeteria diet impairs expression of sensory-s...</td>\n",
       "      <td>Original Research</td>\n",
       "      <td>2014</td>\n",
       "      <td>https://www.frontiersin.org/journals/psycholog...</td>\n",
       "    </tr>\n",
       "    <tr>\n",
       "      <th>...</th>\n",
       "      <td>...</td>\n",
       "      <td>...</td>\n",
       "      <td>...</td>\n",
       "      <td>...</td>\n",
       "    </tr>\n",
       "    <tr>\n",
       "      <th>784</th>\n",
       "      <td>Neurophysiological evidence that musical train...</td>\n",
       "      <td>Original Research</td>\n",
       "      <td>2014</td>\n",
       "      <td>https://www.frontiersin.org/journals/psycholog...</td>\n",
       "    </tr>\n",
       "    <tr>\n",
       "      <th>788</th>\n",
       "      <td>A greater decline in female facial attractiven...</td>\n",
       "      <td>Original Research</td>\n",
       "      <td>2014</td>\n",
       "      <td>https://www.frontiersin.org/journals/psycholog...</td>\n",
       "    </tr>\n",
       "    <tr>\n",
       "      <th>789</th>\n",
       "      <td>Within, but not between hands interactions in ...</td>\n",
       "      <td>Original Research</td>\n",
       "      <td>2014</td>\n",
       "      <td>https://www.frontiersin.org/journals/psycholog...</td>\n",
       "    </tr>\n",
       "    <tr>\n",
       "      <th>790</th>\n",
       "      <td>Cut! that’s a wrap: regulating negative emotio...</td>\n",
       "      <td>Original Research</td>\n",
       "      <td>2014</td>\n",
       "      <td>https://www.frontiersin.org/journals/psycholog...</td>\n",
       "    </tr>\n",
       "    <tr>\n",
       "      <th>791</th>\n",
       "      <td>Supervised classification in the presence of m...</td>\n",
       "      <td>Original Research</td>\n",
       "      <td>2014</td>\n",
       "      <td>https://www.frontiersin.org/journals/psycholog...</td>\n",
       "    </tr>\n",
       "  </tbody>\n",
       "</table>\n",
       "<p>471 rows × 4 columns</p>\n",
       "</div>"
      ],
      "text/plain": [
       "                                                 Title               Type  \\\n",
       "0    Inter-trial priming does not affect attentiona...  Original Research   \n",
       "1    Rapid heartbeat, but dry palms: reactions of h...  Original Research   \n",
       "3             Limits to the usability of iconic memory  Original Research   \n",
       "5    Inter-synaptic learning of combination rules i...  Original Research   \n",
       "6    Cafeteria diet impairs expression of sensory-s...  Original Research   \n",
       "..                                                 ...                ...   \n",
       "784  Neurophysiological evidence that musical train...  Original Research   \n",
       "788  A greater decline in female facial attractiven...  Original Research   \n",
       "789  Within, but not between hands interactions in ...  Original Research   \n",
       "790  Cut! that’s a wrap: regulating negative emotio...  Original Research   \n",
       "791  Supervised classification in the presence of m...  Original Research   \n",
       "\n",
       "    Published Date                                               Link  \n",
       "0             2014  https://www.frontiersin.org/journals/psycholog...  \n",
       "1             2014  https://www.frontiersin.org/journals/psycholog...  \n",
       "3             2014  https://www.frontiersin.org/journals/psycholog...  \n",
       "5             2014  https://www.frontiersin.org/journals/psycholog...  \n",
       "6             2014  https://www.frontiersin.org/journals/psycholog...  \n",
       "..             ...                                                ...  \n",
       "784           2014  https://www.frontiersin.org/journals/psycholog...  \n",
       "788           2014  https://www.frontiersin.org/journals/psycholog...  \n",
       "789           2014  https://www.frontiersin.org/journals/psycholog...  \n",
       "790           2014  https://www.frontiersin.org/journals/psycholog...  \n",
       "791           2014  https://www.frontiersin.org/journals/psycholog...  \n",
       "\n",
       "[471 rows x 4 columns]"
      ]
     },
     "execution_count": 12,
     "metadata": {},
     "output_type": "execute_result"
    }
   ],
   "source": [
    "df['Published Date'] = pd.to_datetime(\n",
    "    df['Published Date'].str.replace(r'(Published on |Accepted on )', '', regex=True),\n",
    "    dayfirst=True,\n",
    "    errors='coerce'\n",
    ")\n",
    "\n",
    "df['Published Date'] = df['Published Date'].dt.strftime('%Y')\n",
    "df['Published Date'] = df['Published Date'].fillna('2014')\n",
    "\n",
    "# Filter for 'Original Research' type\n",
    "DF = df[df['Type'] == 'Original Research']\n",
    "DF"
   ]
  },
  {
   "cell_type": "code",
   "execution_count": null,
   "id": "7932307c",
   "metadata": {
    "scrolled": true
   },
   "outputs": [],
   "source": [
    "#link = \"https://www.frontiersin.org/journals/psychology/articles/10.3389/fpsyg.2024.1487146/full\"\n",
    "#response = requests.get(link, headers={'User-Agent': 'Mozilla/5.0'})\n",
    "#soup = BeautifulSoup(response.text, 'html.parser')\n",
    "#soup"
   ]
  },
  {
   "cell_type": "code",
   "execution_count": null,
   "id": "dfeac4ce",
   "metadata": {
    "scrolled": true
   },
   "outputs": [],
   "source": [
    "#abstract_meta = soup.find('meta', attrs={'name': 'citation_abstract'})\n",
    "#abstract = abstract_meta['content']\n",
    "#abstract_text = re.search(r'<p>(.*?)</p>', abstract).group(1)\n",
    "#abstract_text"
   ]
  },
  {
   "cell_type": "code",
   "execution_count": null,
   "id": "da64b6b9",
   "metadata": {},
   "outputs": [],
   "source": [
    "#sections = [\"Data availability statement\", \"Ethics statement\", \"Author contributions\"]\n",
    "#extracted_text = []\n",
    "#found_section = False\n",
    "\n",
    "# Traverse paragraphs until we reach the first target section\n",
    "#for paragraph in soup.find_all(['p', 'h2']):\n",
    "    # If we encounter any target section, stop the extraction\n",
    "#    if paragraph.name == 'h2' and paragraph.text.strip() in sections:\n",
    "#        found_section = True\n",
    "#        break\n",
    "#    elif paragraph.name == 'p':  # Accumulate text in paragraphs\n",
    "#        extracted_text.append(paragraph.text.strip())\n",
    "\n",
    "# Join and print the extracted text\n",
    "#result = \" \".join(extracted_text)\n",
    "#print(result)"
   ]
  },
  {
   "cell_type": "code",
   "execution_count": null,
   "id": "0bda5c4b",
   "metadata": {
    "scrolled": true
   },
   "outputs": [],
   "source": [
    "#link = \"https://www.frontiersin.org/journals/psychology/articles/10.3389/fpsyg.2024.1435688/full\"\n",
    "#response = requests.get(link, headers={'User-Agent': 'Mozilla/5.0'})\n",
    "#soup = BeautifulSoup(response.text, 'html.parser')\n",
    "#paragraphs = soup.find_all('p')\n",
    "#paragraphs"
   ]
  },
  {
   "cell_type": "code",
   "execution_count": null,
   "id": "2390d8a0",
   "metadata": {
    "scrolled": true
   },
   "outputs": [],
   "source": [
    "#abstract_meta = soup.find('meta', attrs={'name': 'citation_abstract'})\n",
    "#abstract = abstract_meta['content']\n",
    "#abstract_text = re.search(r'<p>(.*?)</p>', abstract).group(1)\n",
    "#abstract_text"
   ]
  },
  {
   "cell_type": "code",
   "execution_count": null,
   "id": "1994fe54",
   "metadata": {},
   "outputs": [],
   "source": [
    "#sections = [\"Data availability statement\", \"Ethics statement\", \"Author contributions\"]\n",
    "#extracted_text = []\n",
    "#found_section = False\n",
    "\n",
    "# Traverse paragraphs until we reach the first target section\n",
    "#for paragraph in soup.find_all(['p', 'h2']):\n",
    "    # If we encounter any target section, stop the extraction\n",
    "#    if paragraph.name == 'h2' and paragraph.text.strip() in sections:\n",
    "#        found_section = True\n",
    "#        break\n",
    "#    elif paragraph.name == 'p':  # Accumulate text in paragraphs\n",
    "#        extracted_text.append(paragraph.text.strip())\n",
    "\n",
    "# Join and print the extracted text\n",
    "#result = \" \".join(extracted_text)\n",
    "#print(result)"
   ]
  },
  {
   "cell_type": "code",
   "execution_count": 13,
   "id": "d778575a",
   "metadata": {},
   "outputs": [
    {
     "name": "stdout",
     "output_type": "stream",
     "text": [
      "                                                 Title Published Date  \\\n",
      "0    Inter-trial priming does not affect attentiona...           2014   \n",
      "1    Rapid heartbeat, but dry palms: reactions of h...           2014   \n",
      "2             Limits to the usability of iconic memory           2014   \n",
      "3    Inter-synaptic learning of combination rules i...           2014   \n",
      "4    Cafeteria diet impairs expression of sensory-s...           2014   \n",
      "..                                                 ...            ...   \n",
      "466  Neurophysiological evidence that musical train...           2014   \n",
      "467  A greater decline in female facial attractiven...           2014   \n",
      "468  Within, but not between hands interactions in ...           2014   \n",
      "469  Cut! that’s a wrap: regulating negative emotio...           2014   \n",
      "470  Supervised classification in the presence of m...           2014   \n",
      "\n",
      "                  Type                                               Link  \\\n",
      "0    Original Research  https://www.frontiersin.org/journals/psycholog...   \n",
      "1    Original Research  https://www.frontiersin.org/journals/psycholog...   \n",
      "2    Original Research  https://www.frontiersin.org/journals/psycholog...   \n",
      "3    Original Research  https://www.frontiersin.org/journals/psycholog...   \n",
      "4    Original Research  https://www.frontiersin.org/journals/psycholog...   \n",
      "..                 ...                                                ...   \n",
      "466  Original Research  https://www.frontiersin.org/journals/psycholog...   \n",
      "467  Original Research  https://www.frontiersin.org/journals/psycholog...   \n",
      "468  Original Research  https://www.frontiersin.org/journals/psycholog...   \n",
      "469  Original Research  https://www.frontiersin.org/journals/psycholog...   \n",
      "470  Original Research  https://www.frontiersin.org/journals/psycholog...   \n",
      "\n",
      "                                               Authors  \\\n",
      "0           Liana Amunts, Amit Yashar, Dominique Lamy*   \n",
      "1    Benjamin Iffland1*, Lisa M. Sansen1,2, Claudia...   \n",
      "2                                   Ronald A. Rensink*   \n",
      "3    Frédéric Lavigne1*, Francis Avnaïm2, Laurent D...   \n",
      "4    Amy C. Reichelt1,2*, Margaret J. Morris1*, R. ...   \n",
      "..                                                 ...   \n",
      "466  McNeel G. Jantzen*, Bradley M. Howe, Kelly J. ...   \n",
      "467  Dario Maestripieri*, Amanda C. E. Klimczuk, Da...   \n",
      "468  Luigi Tamè1,2*, Andrew Moles1, Nicholas P. Hol...   \n",
      "469  Lara Vujovic, Philipp C. Opitz, Jeffrey L. Bir...   \n",
      "470             Jocelyn Holden Bolin*, W. Holmes Finch   \n",
      "\n",
      "                                              Abstract  \\\n",
      "0    Visual search is considerably speeded when the...   \n",
      "1    <bold>Background:</bold> Social rejection elic...   \n",
      "2    Human vision briefly retains a trace of a stim...   \n",
      "3    Selecting responses in working memory while pr...   \n",
      "4    A range of animal and human data demonstrates ...   \n",
      "..                                                 ...   \n",
      "466  Musicians have a more accurate temporal and to...   \n",
      "467  Facial attractiveness represents an important ...   \n",
      "468  Detection of a tactile stimulus on one finger ...   \n",
      "469  Little is known about the potentially powerful...   \n",
      "470  Statistical classification of phenomena into o...   \n",
      "\n",
      "                                             Full Text  \n",
      "0    Visual search is considerably speeded when the...  \n",
      "1    Background: Social rejection elicits negative ...  \n",
      "2    Human vision briefly retains a trace of a stim...  \n",
      "3    Selecting responses in working memory while pr...  \n",
      "4    A commentary has been posted on this article: ...  \n",
      "..                                                 ...  \n",
      "466  Musicians have a more accurate temporal and to...  \n",
      "467  Facial attractiveness represents an important ...  \n",
      "468  Detection of a tactile stimulus on one finger ...  \n",
      "469  Little is known about the potentially powerful...  \n",
      "470  Statistical classification of phenomena into o...  \n",
      "\n",
      "[471 rows x 7 columns]\n"
     ]
    }
   ],
   "source": [
    "data = []\n",
    "\n",
    "# 각 링크에서 author와 abstract, full text 추출\n",
    "sections = [\"Data availability statement\", \"Ethics statement\", \"Author contributions\"]\n",
    "\n",
    "# Iterate through each link in the DataFrame to extract data\n",
    "for index, row in DF.iterrows():\n",
    "    link = row['Link']\n",
    "    response = requests.get(link, headers={'User-Agent': 'Mozilla/5.0'})\n",
    "    soup = BeautifulSoup(response.text, 'html.parser')\n",
    "    \n",
    "    # Title\n",
    "    title = row['Title']\n",
    "    \n",
    "    # Authors\n",
    "    authors = [author.get_text(strip=True) for author in soup.select('.authors .author-wrapper')]\n",
    "    \n",
    "    # Abstract extraction using <meta> tag content\n",
    "    abstract = None\n",
    "    try:\n",
    "        abstract_meta = soup.find('meta', attrs={'name': 'citation_abstract'})\n",
    "        if abstract_meta:\n",
    "            abstract_content = abstract_meta['content']\n",
    "            abstract = re.search(r'<p>(.*?)</p>', abstract_content).group(1) if '<p>' in abstract_content else abstract_content\n",
    "        else:\n",
    "            abstract = \"Abstract not available.\"\n",
    "    except AttributeError:\n",
    "        abstract = \"Abstract not available.\"\n",
    "    \n",
    "    # Full Text extraction until the first target section\n",
    "    #extracted_text = []\n",
    "    #for paragraph in soup.find_all(['p', 'h2']):\n",
    "    #    # If we encounter any target section, stop the extraction\n",
    "    #    if paragraph.name == 'h2' and paragraph.text.strip() in sections:\n",
    "    #        break\n",
    "    #    elif paragraph.name == 'p':  # Accumulate text in paragraphs\n",
    "    #        extracted_text.append(paragraph.text.strip())\n",
    "    \n",
    "    # Join all extracted paragraphs into one full text string\n",
    "    #full_text = \" \".join(extracted_text)\n",
    "    \n",
    "    # Add data to the list\n",
    "    data.append({\n",
    "        \"Title\": title,\n",
    "        \"Published Date\": row['Published Date'],\n",
    "        \"Type\": row['Type'],\n",
    "        \"Link\": link,\n",
    "        \"Authors\": \", \".join(authors),\n",
    "        \"Abstract\": abstract,\n",
    "        #\"Full Text\": full_text\n",
    "    })\n",
    "\n",
    "# Create a DataFrame from the extracted data\n",
    "result_df = pd.DataFrame(data)\n",
    "print(result_df)"
   ]
  },
  {
   "cell_type": "code",
   "execution_count": 14,
   "id": "86c6f5df",
   "metadata": {},
   "outputs": [],
   "source": [
    "result_df['Title'] = result_df['Title'].apply(lambda x: re.sub(r'(\\d+|\\*|†)', '', re.sub(r'\\(.*?\\)', '', x)))\n",
    "result_df['Abstract'] = result_df['Abstract'].apply(lambda x: re.sub(r'(\\d+|\\*|†)', '', re.sub(r'\\(.*?\\)', '', x)))\n",
    "result_df['Abstract'] = result_df['Abstract'].apply(lambda x: re.sub(r'<\\d+|\\*|†>', '', re.sub(r'\\<.*?\\>', '', x)))\n",
    "#result_df['Full Text'] = result_df['Full Text'].apply(lambda x: re.sub(r'(\\d+|\\*|†)', '', re.sub(r'\\(.*?\\)', '', x)))"
   ]
  },
  {
   "cell_type": "code",
   "execution_count": 15,
   "id": "32e2902a",
   "metadata": {},
   "outputs": [
    {
     "name": "stdout",
     "output_type": "stream",
     "text": [
      "                                                 Title  \\\n",
      "0    Inter-trial priming does not affect attentiona...   \n",
      "1    Rapid heartbeat, but dry palms: reactions of h...   \n",
      "2             Limits to the usability of iconic memory   \n",
      "3    Inter-synaptic learning of combination rules i...   \n",
      "4    Cafeteria diet impairs expression of sensory-s...   \n",
      "..                                                 ...   \n",
      "466  Neurophysiological evidence that musical train...   \n",
      "467  A greater decline in female facial attractiven...   \n",
      "468  Within, but not between hands interactions in ...   \n",
      "469  Cut! that’s a wrap: regulating negative emotio...   \n",
      "470  Supervised classification in the presence of m...   \n",
      "\n",
      "                                               Authors  \n",
      "0            Liana Amunts, Amit Yashar, Dominique Lamy  \n",
      "1    Benjamin Iffland, Lisa M. Sansen, Claudia Cata...  \n",
      "2                                    Ronald A. Rensink  \n",
      "3    Frédéric Lavigne, Francis Avnaïm, Laurent Dumercy  \n",
      "4    Amy C. Reichelt, Margaret J. Morris, R. F. Wes...  \n",
      "..                                                 ...  \n",
      "466  McNeel G. Jantzen, Bradley M. Howe, Kelly J. J...  \n",
      "467  Dario Maestripieri, Amanda C. E. Klimczuk, Dan...  \n",
      "468       Luigi Tamè, Andrew Moles, Nicholas P. Holmes  \n",
      "469  Lara Vujovic, Philipp C. Opitz, Jeffrey L. Bir...  \n",
      "470              Jocelyn Holden Bolin, W. Holmes Finch  \n",
      "\n",
      "[471 rows x 2 columns]\n"
     ]
    }
   ],
   "source": [
    "result_df['Authors'] = result_df['Authors'].apply(\n",
    "    lambda x: re.sub(r'(\\d+|\\*|†)', '', x)  # Remove digits, asterisks, and dagger symbols\n",
    "                .replace(\"??\", \"\")          # Remove any question marks\n",
    "                .replace(\",,\", \",\")         # Consolidate multiple commas\n",
    "                .replace(\", ,\", \",\")        # Remove spaced commas\n",
    "                .replace(\"  \", \" \")         # Remove double spaces\n",
    "                .replace(\", ,\", \",\")                # Remove any trailing commas or spaces\n",
    ")\n",
    "print(result_df[['Title', 'Authors']])"
   ]
  },
  {
   "cell_type": "code",
   "execution_count": 16,
   "id": "d1da9a93",
   "metadata": {},
   "outputs": [],
   "source": [
    "result_df.to_csv(\"articles_data_14.csv\", index=False)"
   ]
  },
  {
   "cell_type": "code",
   "execution_count": null,
   "id": "e5437233",
   "metadata": {},
   "outputs": [],
   "source": [
    "result_df"
   ]
  },
  {
   "cell_type": "code",
   "execution_count": null,
   "id": "ad5437fc",
   "metadata": {},
   "outputs": [],
   "source": []
  }
 ],
 "metadata": {
  "kernelspec": {
   "display_name": "Python 3 (ipykernel)",
   "language": "python",
   "name": "python3"
  },
  "language_info": {
   "codemirror_mode": {
    "name": "ipython",
    "version": 3
   },
   "file_extension": ".py",
   "mimetype": "text/x-python",
   "name": "python",
   "nbconvert_exporter": "python",
   "pygments_lexer": "ipython3",
   "version": "3.11.5"
  }
 },
 "nbformat": 4,
 "nbformat_minor": 5
}
