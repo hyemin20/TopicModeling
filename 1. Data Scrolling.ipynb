{
 "cells": [
  {
   "cell_type": "code",
   "execution_count": null,
   "id": "a3b0c4e1",
   "metadata": {},
   "outputs": [],
   "source": [
    "#reference\n",
    "#https://realpython.com/python-web-scraping-practical-introduction/"
   ]
  },
  {
   "cell_type": "code",
   "execution_count": 1,
   "id": "5eac5082",
   "metadata": {},
   "outputs": [
    {
     "data": {
      "text/plain": [
       "'C:\\\\Users\\\\OWNER\\\\TopicModeling'"
      ]
     },
     "execution_count": 1,
     "metadata": {},
     "output_type": "execute_result"
    }
   ],
   "source": [
    "import os\n",
    "os.getcwd()"
   ]
  },
  {
   "cell_type": "markdown",
   "id": "92531c84",
   "metadata": {},
   "source": [
    "# 1. method 1"
   ]
  },
  {
   "cell_type": "code",
   "execution_count": null,
   "id": "f12e88a6",
   "metadata": {},
   "outputs": [],
   "source": [
    "from urllib.request import urlopen"
   ]
  },
  {
   "cell_type": "code",
   "execution_count": null,
   "id": "23b6d065",
   "metadata": {},
   "outputs": [],
   "source": [
    "url = \"http://olympus.realpython.org/profiles/aphrodite\""
   ]
  },
  {
   "cell_type": "code",
   "execution_count": null,
   "id": "9ce1ab05",
   "metadata": {},
   "outputs": [],
   "source": [
    "page = urlopen(url)"
   ]
  },
  {
   "cell_type": "code",
   "execution_count": null,
   "id": "a8d472ab",
   "metadata": {},
   "outputs": [],
   "source": [
    "html_bytes = page.read()\n",
    "html = html_bytes.decode(\"utf-8\")"
   ]
  },
  {
   "cell_type": "code",
   "execution_count": null,
   "id": "0168fd63",
   "metadata": {},
   "outputs": [],
   "source": [
    "print(html)"
   ]
  },
  {
   "cell_type": "code",
   "execution_count": null,
   "id": "4875732d",
   "metadata": {},
   "outputs": [],
   "source": [
    "title_index = html.find(\"<title>\")\n",
    "title_index"
   ]
  },
  {
   "cell_type": "code",
   "execution_count": null,
   "id": "64d562b8",
   "metadata": {},
   "outputs": [],
   "source": [
    "start_index = title_index + len(\"<title>\")\n",
    "end_index = html.find(\"</title>\")\n",
    "title = html[start_index:end_index]\n",
    "title"
   ]
  },
  {
   "cell_type": "code",
   "execution_count": null,
   "id": "ce6ccba2",
   "metadata": {},
   "outputs": [],
   "source": []
  },
  {
   "cell_type": "code",
   "execution_count": null,
   "id": "447846db",
   "metadata": {},
   "outputs": [],
   "source": [
    "import re"
   ]
  },
  {
   "cell_type": "code",
   "execution_count": null,
   "id": "e867ade5",
   "metadata": {},
   "outputs": [],
   "source": [
    "re.findall(\"ab*c\", \"AC\", re.IGNORECASE)"
   ]
  },
  {
   "cell_type": "code",
   "execution_count": null,
   "id": "4f735953",
   "metadata": {},
   "outputs": [],
   "source": [
    "re.findall(\"a..c\", \"acac\")"
   ]
  },
  {
   "cell_type": "code",
   "execution_count": null,
   "id": "806634e9",
   "metadata": {},
   "outputs": [],
   "source": [
    "re.findall(\"a.*c\", \"acc\")"
   ]
  },
  {
   "cell_type": "code",
   "execution_count": null,
   "id": "e38e7d68",
   "metadata": {},
   "outputs": [],
   "source": [
    "match_results = re.search(\"ab*c\", \"ACabc\", re.IGNORECASE)\n",
    "match_results.group()"
   ]
  },
  {
   "cell_type": "code",
   "execution_count": null,
   "id": "86ce928f",
   "metadata": {},
   "outputs": [],
   "source": [
    "string = \"Everything is [asdfa] if it's in <asfasdf>.\"\n",
    "string = re.sub(r\"<.*?>\", \"HI\", string)\n",
    "string = re.sub(r\"\\[.*?\\]\", \"HYEMIN\", string)\n",
    "string"
   ]
  },
  {
   "cell_type": "code",
   "execution_count": null,
   "id": "7f97d95e",
   "metadata": {},
   "outputs": [],
   "source": []
  },
  {
   "cell_type": "markdown",
   "id": "829e751f",
   "metadata": {},
   "source": [
    "# 2. method 2"
   ]
  },
  {
   "cell_type": "code",
   "execution_count": null,
   "id": "4c3d6cb8",
   "metadata": {},
   "outputs": [],
   "source": [
    "import re\n",
    "from urllib.request import urlopen"
   ]
  },
  {
   "cell_type": "code",
   "execution_count": null,
   "id": "f939371e",
   "metadata": {},
   "outputs": [],
   "source": [
    "url = \"http://olympus.realpython.org/profiles/dionysus\"\n",
    "page = urlopen(url)\n",
    "html = page.read().decode(\"utf-8\")\n",
    "print(html)"
   ]
  },
  {
   "cell_type": "code",
   "execution_count": null,
   "id": "cd392636",
   "metadata": {},
   "outputs": [],
   "source": [
    "pattern = \"<title.*?>.*?</title.*?>\"\n",
    "match_results = re.search(pattern, html, re.IGNORECASE)\n",
    "title = match_results.group()\n",
    "title = re.sub(\"<.*?>\", \"\", title) # Remove HTML tags\n",
    "\n",
    "print(title)"
   ]
  },
  {
   "cell_type": "code",
   "execution_count": null,
   "id": "f37fd8bd",
   "metadata": {},
   "outputs": [],
   "source": [
    "string = \"Name: \"\n",
    "string_start_idx = html.find(string)\n",
    "text_start_idx = string_start_idx + len(string)\n",
    "\n",
    "next_html_tag_offset = html[text_start_idx:].find(\"<\")\n",
    "text_end_idx = text_start_idx + next_html_tag_offset\n",
    "\n",
    "raw_text = html[text_start_idx : text_end_idx]\n",
    "clean_text = raw_text.strip(\" \\r\\n\\t\") #시작과 끝 공백 제거\n",
    "print(clean_text)"
   ]
  },
  {
   "cell_type": "code",
   "execution_count": null,
   "id": "11f632d4",
   "metadata": {},
   "outputs": [],
   "source": [
    "string = \"Favorite Color: \"\n",
    "string_start_idx = html.find(string)\n",
    "text_start_idx = string_start_idx + len(string)\n",
    "\n",
    "next_html_tag_offset = html[text_start_idx:].find(\"<\")\n",
    "text_end_idx = text_start_idx + next_html_tag_offset\n",
    "\n",
    "raw_text = html[text_start_idx : text_end_idx]\n",
    "clean_text = raw_text.strip(\" \\r\\n\\t\") #시작과 끝 공백 제거\n",
    "print(clean_text)"
   ]
  },
  {
   "cell_type": "code",
   "execution_count": null,
   "id": "1c4aeb5b",
   "metadata": {},
   "outputs": [],
   "source": [
    "for string in [\"Name: \", \"Favorite Color: \"]:\n",
    "    string_start_idx = html.find(string)\n",
    "    text_start_idx = string_start_idx + len(string)\n",
    "\n",
    "    next_html_tag_offset = html[text_start_idx:].find(\"<\")\n",
    "    text_end_idx = text_start_idx + next_html_tag_offset\n",
    "\n",
    "    raw_text = html[text_start_idx : text_end_idx]\n",
    "    clean_text = raw_text.strip(\" \\r\\n\\t\")\n",
    "    print(clean_text)"
   ]
  },
  {
   "cell_type": "code",
   "execution_count": null,
   "id": "c32436d1",
   "metadata": {},
   "outputs": [],
   "source": []
  },
  {
   "cell_type": "markdown",
   "id": "d4dbd8e3",
   "metadata": {},
   "source": [
    "# 3. method 3"
   ]
  },
  {
   "cell_type": "code",
   "execution_count": null,
   "id": "87f995ae",
   "metadata": {},
   "outputs": [],
   "source": [
    "from bs4 import BeautifulSoup\n",
    "from urllib.request import urlopen\n",
    "\n",
    "url = \"http://olympus.realpython.org/profiles/dionysus\"\n",
    "page = urlopen(url)\n",
    "html = page.read().decode(\"utf-8\")\n",
    "soup = BeautifulSoup(html, \"html.parser\")"
   ]
  },
  {
   "cell_type": "code",
   "execution_count": null,
   "id": "232a0108",
   "metadata": {},
   "outputs": [],
   "source": [
    "soup"
   ]
  },
  {
   "cell_type": "code",
   "execution_count": null,
   "id": "360941b5",
   "metadata": {
    "scrolled": true
   },
   "outputs": [],
   "source": [
    "print(soup.get_text())"
   ]
  },
  {
   "cell_type": "code",
   "execution_count": null,
   "id": "2b434b23",
   "metadata": {},
   "outputs": [],
   "source": [
    "soup.find_all(\"img\")"
   ]
  },
  {
   "cell_type": "code",
   "execution_count": null,
   "id": "95956185",
   "metadata": {},
   "outputs": [],
   "source": [
    "image1, image2 = soup.find_all(\"img\")\n",
    "image1.name\n",
    "image1[\"src\"]"
   ]
  },
  {
   "cell_type": "code",
   "execution_count": null,
   "id": "2d8575de",
   "metadata": {},
   "outputs": [],
   "source": [
    "soup.title.string"
   ]
  },
  {
   "cell_type": "code",
   "execution_count": null,
   "id": "810fda11",
   "metadata": {},
   "outputs": [],
   "source": []
  },
  {
   "cell_type": "code",
   "execution_count": null,
   "id": "bf79f907",
   "metadata": {},
   "outputs": [],
   "source": [
    "from bs4 import BeautifulSoup\n",
    "from urllib.request import urlopen\n",
    "\n",
    "base_url = \"http://olympus.realpython.org\"\n",
    "page = urlopen(base_url + \"/profiles\")\n",
    "html = page.read().decode(\"utf-8\")\n",
    "soup = BeautifulSoup(html, \"html.parser\")"
   ]
  },
  {
   "cell_type": "code",
   "execution_count": null,
   "id": "8c8e9d58",
   "metadata": {},
   "outputs": [],
   "source": [
    "soup.find_all(\"a\")"
   ]
  },
  {
   "cell_type": "code",
   "execution_count": null,
   "id": "793b2546",
   "metadata": {},
   "outputs": [],
   "source": [
    "for link in soup.find_all(\"a\"):\n",
    "    link_url = base_url + link[\"href\"]\n",
    "    print(link_url)"
   ]
  },
  {
   "cell_type": "code",
   "execution_count": null,
   "id": "272cf057",
   "metadata": {},
   "outputs": [],
   "source": []
  },
  {
   "cell_type": "markdown",
   "id": "6be86262",
   "metadata": {},
   "source": [
    "# 4. method 4 (Interact)"
   ]
  },
  {
   "cell_type": "code",
   "execution_count": null,
   "id": "6f763d47",
   "metadata": {},
   "outputs": [],
   "source": [
    "# !pip install mechanicalsoup"
   ]
  },
  {
   "cell_type": "code",
   "execution_count": null,
   "id": "35d6c13d",
   "metadata": {},
   "outputs": [],
   "source": [
    "import mechanicalsoup\n",
    "browser = mechanicalsoup.Browser()"
   ]
  },
  {
   "cell_type": "code",
   "execution_count": null,
   "id": "da2d1c9f",
   "metadata": {},
   "outputs": [],
   "source": [
    "# \"https://www.tandfonline.com/loi/cedr20\"\n",
    "# \"https://www.linkedin.com/feed/\"\n",
    "url = \"http://olympus.realpython.org/login\"\n",
    "page = browser.get(url)\n",
    "page"
   ]
  },
  {
   "cell_type": "code",
   "execution_count": null,
   "id": "31d519f4",
   "metadata": {
    "scrolled": false
   },
   "outputs": [],
   "source": [
    "html = page.soup\n",
    "html"
   ]
  },
  {
   "cell_type": "code",
   "execution_count": null,
   "id": "0f661b58",
   "metadata": {},
   "outputs": [],
   "source": [
    "form = html.select(\"form\")[0]\n",
    "form.select(\"input\")[0][\"value\"] = \"zeus\"\n",
    "form.select(\"input\")[1][\"value\"] = \"ThunderDude\"\n",
    "profiles_page = browser.submit(form, page.url)\n",
    "profiles_page.url"
   ]
  },
  {
   "cell_type": "code",
   "execution_count": null,
   "id": "dd286be0",
   "metadata": {
    "scrolled": true
   },
   "outputs": [],
   "source": [
    "links = profiles_page.soup.select(\"a\")\n",
    "links"
   ]
  },
  {
   "cell_type": "code",
   "execution_count": null,
   "id": "0c5e7157",
   "metadata": {
    "scrolled": true
   },
   "outputs": [],
   "source": [
    "base_url = \"http://olympus.realpython.org\"\n",
    "for link in links:\n",
    "    address = base_url + link[\"href\"]\n",
    "    text = link.text\n",
    "    print(f\"{text}: {address}\")"
   ]
  },
  {
   "cell_type": "markdown",
   "id": "3e44cc71",
   "metadata": {
    "scrolled": true
   },
   "source": [
    "## 4.1 apply"
   ]
  },
  {
   "cell_type": "code",
   "execution_count": null,
   "id": "324c37ca",
   "metadata": {
    "scrolled": true
   },
   "outputs": [],
   "source": [
    "callibrary_url = \"https://auth.berkeley.edu/cas/login?service=https%3A%2F%2Fsearch.library.berkeley.edu%2Finfra%2FcasRedirect?ctx=/primaws\"\n",
    "callibrary_page = browser.get(callibrary_url)\n",
    "callibrary_page    "
   ]
  },
  {
   "cell_type": "code",
   "execution_count": null,
   "id": "db036164",
   "metadata": {},
   "outputs": [],
   "source": [
    "callibrary = callibrary_page.soup\n",
    "callibrary"
   ]
  },
  {
   "cell_type": "code",
   "execution_count": null,
   "id": "e25d867f",
   "metadata": {
    "scrolled": true
   },
   "outputs": [],
   "source": []
  },
  {
   "cell_type": "markdown",
   "id": "dc7b2cfb",
   "metadata": {
    "scrolled": true
   },
   "source": [
    "## 4.2. example"
   ]
  },
  {
   "cell_type": "code",
   "execution_count": null,
   "id": "559b9411",
   "metadata": {},
   "outputs": [],
   "source": [
    "url = \"http://olympus.realpython.org/login\"\n",
    "page = browser.get(url)\n",
    "html = page.soup\n",
    "form = html.select(\"form\")[0]\n",
    "form.select(\"input\")[0][\"value\"] = \"zeus\"\n",
    "form.select(\"input\")[1][\"value\"] = \"ThunderDude\"\n",
    "profiles_page = browser.submit(form, page.url)\n",
    "profiles_page.url"
   ]
  },
  {
   "cell_type": "code",
   "execution_count": null,
   "id": "92a736fe",
   "metadata": {},
   "outputs": [],
   "source": [
    "links = profiles_page.soup.select(\"title\")\n",
    "texts = [link.text for link in links]\n",
    "texts"
   ]
  },
  {
   "cell_type": "code",
   "execution_count": null,
   "id": "223afe1f",
   "metadata": {},
   "outputs": [],
   "source": [
    "links = profiles_page.soup\n",
    "links"
   ]
  },
  {
   "cell_type": "code",
   "execution_count": null,
   "id": "baa42595",
   "metadata": {},
   "outputs": [],
   "source": []
  },
  {
   "cell_type": "markdown",
   "id": "7eac5821",
   "metadata": {},
   "source": [
    "# 5. method 5 (Interact Real TIme)"
   ]
  },
  {
   "cell_type": "code",
   "execution_count": null,
   "id": "fad6f6d0",
   "metadata": {},
   "outputs": [],
   "source": [
    "import time"
   ]
  },
  {
   "cell_type": "code",
   "execution_count": null,
   "id": "9d6c972c",
   "metadata": {},
   "outputs": [],
   "source": [
    "url = \"http://olympus.realpython.org/dice\"\n",
    "page = browser.get(url)\n",
    "html = page.soup.select(\"#result\")[0]\n",
    "result = html.text\n",
    "result"
   ]
  },
  {
   "cell_type": "code",
   "execution_count": null,
   "id": "6e10e37e",
   "metadata": {},
   "outputs": [],
   "source": [
    "print(\"I'm about to wait for five seconds...\")\n",
    "time.sleep(5)\n",
    "print(\"Done waiting!\")"
   ]
  },
  {
   "cell_type": "code",
   "execution_count": null,
   "id": "ba33e81d",
   "metadata": {},
   "outputs": [],
   "source": [
    "browser = mechanicalsoup.Browser()\n",
    "\n",
    "for i in range(4):\n",
    "    page = browser.get(\"http://olympus.realpython.org/dice\")\n",
    "    tag = page.soup.select(\"#result\")[0]\n",
    "    result = tag.text\n",
    "    print(f\"The result of your dice roll is: {result}\")\n",
    "\n",
    "    # Wait 10 seconds if this isn't the last request\n",
    "    if i < 3:\n",
    "        time.sleep(3)"
   ]
  },
  {
   "cell_type": "code",
   "execution_count": null,
   "id": "b13d5544",
   "metadata": {},
   "outputs": [],
   "source": []
  },
  {
   "cell_type": "code",
   "execution_count": null,
   "id": "5a8ec8b0",
   "metadata": {},
   "outputs": [],
   "source": []
  },
  {
   "cell_type": "markdown",
   "id": "e007a03a",
   "metadata": {},
   "source": [
    "# 6. dataframe (frontier in psychology)"
   ]
  },
  {
   "cell_type": "code",
   "execution_count": 2,
   "id": "bdefa19b",
   "metadata": {},
   "outputs": [],
   "source": [
    "import requests\n",
    "import pandas as pd\n",
    "from selenium import webdriver\n",
    "from bs4 import BeautifulSoup\n",
    "from urllib.request import urlopen\n",
    "from selenium.webdriver.common.by import By\n",
    "from selenium.webdriver.support.ui import WebDriverWait\n",
    "from selenium.webdriver.support import expected_conditions as EC\n",
    "from selenium.webdriver.common.action_chains import ActionChains\n",
    "import time\n",
    "import re"
   ]
  },
  {
   "cell_type": "markdown",
   "id": "6a6164f5",
   "metadata": {},
   "source": [
    "##### Bring URL and HTML\n",
    "url = \"https://www.frontiersin.org/journals/psychology/articles/10.3389/fpsyg.2024.1487146/full\"\n",
    "headers = {'User-Agent': 'Mozilla/5.0'}\n",
    "response = requests.get(url, headers=headers)\n",
    "soup = BeautifulSoup(response.text, 'html.parser')"
   ]
  },
  {
   "cell_type": "markdown",
   "id": "aad3bcdb",
   "metadata": {},
   "source": [
    "##### Convert BeautifulSoup object to string\n",
    "html_content = str(soup)\n",
    "\n",
    "##### Search for title pattern\n",
    "pattern = \"<title.*?>.*?</title.*?>\"\n",
    "match_results = re.search(pattern, html_content, re.IGNORECASE)\n",
    "title = match_results.group() if match_results else \"No title found\"\n",
    "title = re.sub(\"<.*?>\", \"\", title)  # Remove HTML tags\n",
    "\n",
    "print(title)"
   ]
  },
  {
   "cell_type": "markdown",
   "id": "91e360e6",
   "metadata": {},
   "source": [
    "##### https://www.frontiersin.org/journals/psychology/articles?publication-date=25%2F10%2F2024-25%2F10%2F2024"
   ]
  },
  {
   "cell_type": "code",
   "execution_count": 3,
   "id": "1f6af844",
   "metadata": {},
   "outputs": [
    {
     "name": "stdout",
     "output_type": "stream",
     "text": [
      "Articles loaded: 32, Retries: 0\n",
      "Articles loaded: 48, Retries: 0\n",
      "Articles loaded: 64, Retries: 0\n",
      "Articles loaded: 80, Retries: 0\n",
      "Articles loaded: 96, Retries: 0\n",
      "Articles loaded: 112, Retries: 0\n",
      "Articles loaded: 128, Retries: 0\n",
      "Articles loaded: 144, Retries: 0\n",
      "Articles loaded: 160, Retries: 0\n",
      "Articles loaded: 176, Retries: 0\n",
      "Articles loaded: 192, Retries: 0\n",
      "Articles loaded: 208, Retries: 0\n",
      "Articles loaded: 224, Retries: 0\n",
      "Articles loaded: 240, Retries: 0\n",
      "Articles loaded: 256, Retries: 0\n",
      "Articles loaded: 272, Retries: 0\n",
      "Articles loaded: 288, Retries: 0\n",
      "Articles loaded: 304, Retries: 0\n",
      "Articles loaded: 320, Retries: 0\n",
      "Articles loaded: 324, Retries: 0\n",
      "Articles loaded: 324, Retries: 1\n",
      "Articles loaded: 324, Retries: 2\n",
      "Articles loaded: 324, Retries: 3\n",
      "Articles loaded: 324, Retries: 4\n",
      "Articles loaded: 324, Retries: 5\n",
      "Articles loaded: 324, Retries: 6\n",
      "Articles loaded: 324, Retries: 7\n",
      "Articles loaded: 324, Retries: 8\n"
     ]
    },
    {
     "data": {
      "text/html": [
       "<div>\n",
       "<style scoped>\n",
       "    .dataframe tbody tr th:only-of-type {\n",
       "        vertical-align: middle;\n",
       "    }\n",
       "\n",
       "    .dataframe tbody tr th {\n",
       "        vertical-align: top;\n",
       "    }\n",
       "\n",
       "    .dataframe thead th {\n",
       "        text-align: right;\n",
       "    }\n",
       "</style>\n",
       "<table border=\"1\" class=\"dataframe\">\n",
       "  <thead>\n",
       "    <tr style=\"text-align: right;\">\n",
       "      <th></th>\n",
       "      <th>Title</th>\n",
       "      <th>Type</th>\n",
       "      <th>Published Date</th>\n",
       "      <th>Link</th>\n",
       "    </tr>\n",
       "  </thead>\n",
       "  <tbody>\n",
       "    <tr>\n",
       "      <th>0</th>\n",
       "      <td>The inhibitory impact of collaboration on the ...</td>\n",
       "      <td>Original Research</td>\n",
       "      <td>Published on 25 Oct 2024</td>\n",
       "      <td>https://www.frontiersin.org/journals/psycholog...</td>\n",
       "    </tr>\n",
       "    <tr>\n",
       "      <th>1</th>\n",
       "      <td>When sounds come alive: animacy in the auditor...</td>\n",
       "      <td>Mini Review</td>\n",
       "      <td>Published on 25 Oct 2024</td>\n",
       "      <td>https://www.frontiersin.org/journals/psycholog...</td>\n",
       "    </tr>\n",
       "    <tr>\n",
       "      <th>2</th>\n",
       "      <td>Beyond humanism: telling response-able stories...</td>\n",
       "      <td>Conceptual Analysis</td>\n",
       "      <td>Published on 25 Oct 2024</td>\n",
       "      <td>https://www.frontiersin.org/journals/psycholog...</td>\n",
       "    </tr>\n",
       "    <tr>\n",
       "      <th>3</th>\n",
       "      <td>The mindful resiliency in recovery model: empo...</td>\n",
       "      <td>Hypothesis and Theory</td>\n",
       "      <td>Published on 25 Oct 2024</td>\n",
       "      <td>https://www.frontiersin.org/journals/psycholog...</td>\n",
       "    </tr>\n",
       "    <tr>\n",
       "      <th>4</th>\n",
       "      <td>Syntax and the brain: language evolution as th...</td>\n",
       "      <td>Hypothesis and Theory</td>\n",
       "      <td>Published on 25 Oct 2024</td>\n",
       "      <td>https://www.frontiersin.org/journals/psycholog...</td>\n",
       "    </tr>\n",
       "  </tbody>\n",
       "</table>\n",
       "</div>"
      ],
      "text/plain": [
       "                                               Title                   Type  \\\n",
       "0  The inhibitory impact of collaboration on the ...      Original Research   \n",
       "1  When sounds come alive: animacy in the auditor...            Mini Review   \n",
       "2  Beyond humanism: telling response-able stories...    Conceptual Analysis   \n",
       "3  The mindful resiliency in recovery model: empo...  Hypothesis and Theory   \n",
       "4  Syntax and the brain: language evolution as th...  Hypothesis and Theory   \n",
       "\n",
       "             Published Date                                               Link  \n",
       "0  Published on 25 Oct 2024  https://www.frontiersin.org/journals/psycholog...  \n",
       "1  Published on 25 Oct 2024  https://www.frontiersin.org/journals/psycholog...  \n",
       "2  Published on 25 Oct 2024  https://www.frontiersin.org/journals/psycholog...  \n",
       "3  Published on 25 Oct 2024  https://www.frontiersin.org/journals/psycholog...  \n",
       "4  Published on 25 Oct 2024  https://www.frontiersin.org/journals/psycholog...  "
      ]
     },
     "execution_count": 3,
     "metadata": {},
     "output_type": "execute_result"
    }
   ],
   "source": [
    "# Set up the WebDriver\n",
    "driver = webdriver.Chrome()\n",
    "\n",
    "# Open the page\n",
    "base_url = \"https://www.frontiersin.org/journals/psychology/articles\"\n",
    "url = base_url + \"?publication-date=01%2F10%2F2024-25%2F10%2F2024\"\n",
    "driver.get(url)\n",
    "\n",
    "# Set page zoom to 25%\n",
    "driver.execute_script(\"document.body.style.zoom='25%'\")\n",
    "\n",
    "# Accept cookies if the banner appears\n",
    "try:\n",
    "    accept_cookies_button = WebDriverWait(driver, 10).until(\n",
    "        EC.element_to_be_clickable((By.ID, \"onetrust-accept-btn-handler\"))\n",
    "    )\n",
    "    accept_cookies_button.click()\n",
    "except:\n",
    "    print(\"No cookie banner detected.\")\n",
    "\n",
    "# Wait for the first article to load\n",
    "WebDriverWait(driver, 10).until(\n",
    "    EC.presence_of_element_located((By.CLASS_NAME, \"CardArticle\"))\n",
    ")\n",
    "\n",
    "# Scroll and hover to trigger loading of new articles\n",
    "scroll_increment = 200  # Smaller increment for smoother scroll\n",
    "scroll_pause_time = 1.5 # Adjusted pause time to simulate user interaction\n",
    "max_retries = 8         # Retry limit if no new articles load\n",
    "retries = 0\n",
    "prev_article_count = 0\n",
    "\n",
    "# Scroll until all articles are loaded\n",
    "actions = ActionChains(driver)\n",
    "while retries < max_retries:\n",
    "    # Scroll by a small increment\n",
    "    driver.execute_script(\"window.scrollBy(0, arguments[0]);\", scroll_increment)\n",
    "    time.sleep(scroll_pause_time)\n",
    "\n",
    "    # Hover over the footer to trigger lazy loading if any exists\n",
    "    footer = driver.find_element(By.TAG_NAME, \"footer\")\n",
    "    actions.move_to_element(footer).perform()\n",
    "\n",
    "    # Check current number of articles loaded\n",
    "    html = driver.page_source\n",
    "    soup = BeautifulSoup(html, 'html.parser')\n",
    "    articles = soup.find_all(\"article\", class_=\"CardArticle\")\n",
    "    current_article_count = len(articles)\n",
    "\n",
    "    # Update retry count based on loaded articles\n",
    "    if current_article_count > prev_article_count:\n",
    "        prev_article_count = current_article_count\n",
    "        retries = 0  # Reset retries if new articles loaded\n",
    "    else:\n",
    "        retries += 1  # Increment retry count if no new articles load\n",
    "\n",
    "    print(f\"Articles loaded: {current_article_count}, Retries: {retries}\")\n",
    "\n",
    "# Ensure elements are fully loaded\n",
    "time.sleep(3)\n",
    "\n",
    "# Extract article information\n",
    "data = []\n",
    "for article in articles:\n",
    "    title = article.find(\"h1\", class_=\"CardArticle__title\").get_text(strip=True)\n",
    "    publish_date = article.find(\"p\", class_=\"CardArticle__date\").get_text(strip=True)\n",
    "    article_type = article.find(\"p\", class_=\"CardArticle__type\").get_text(strip=True)\n",
    "    link = article.find(\"a\", class_=\"CardArticle__wrapper\")[\"href\"]\n",
    "        \n",
    "    data.append({\n",
    "        \"Title\": title,\n",
    "        \"Type\": article_type,\n",
    "        \"Published Date\": publish_date,\n",
    "        \"Link\": link,\n",
    "    })\n",
    "\n",
    "# Close the driver\n",
    "driver.quit()\n",
    "\n",
    "# Convert to DataFrame and display\n",
    "df = pd.DataFrame(data)\n",
    "df.head(5)"
   ]
  },
  {
   "cell_type": "code",
   "execution_count": 4,
   "id": "5084118b",
   "metadata": {},
   "outputs": [
    {
     "data": {
      "text/plain": [
       "324"
      ]
     },
     "execution_count": 4,
     "metadata": {},
     "output_type": "execute_result"
    }
   ],
   "source": [
    "len(articles)"
   ]
  },
  {
   "cell_type": "code",
   "execution_count": 5,
   "id": "e4241a19",
   "metadata": {},
   "outputs": [
    {
     "name": "stdout",
     "output_type": "stream",
     "text": [
      "                                                 Title Published Date  \\\n",
      "0    The inhibitory impact of collaboration on the ...            Oct   \n",
      "5    RECALL prompting hierarchy improves responsive...            Oct   \n",
      "6    Assessing key soft skills in organizational co...            Oct   \n",
      "9    Mapping perceived sentiments in university cam...            Oct   \n",
      "10   The impact of job stress on job satisfaction a...            Oct   \n",
      "..                                                 ...            ...   \n",
      "317  Gaze communicates both cue direction and agent...            Sep   \n",
      "320  The effect of parental and teacher autonomy su...            Sep   \n",
      "321  Internet addiction, social phobia, substance a...            Sep   \n",
      "322  Influence of problem-solving ability and perso...            Sep   \n",
      "323  Strategies for becoming a more desirable mate:...            Sep   \n",
      "\n",
      "                  Type                                               Link  \n",
      "0    Original Research  https://www.frontiersin.org/journals/psycholog...  \n",
      "5    Original Research  https://www.frontiersin.org/journals/psycholog...  \n",
      "6    Original Research  https://www.frontiersin.org/journals/psycholog...  \n",
      "9    Original Research  https://www.frontiersin.org/journals/psycholog...  \n",
      "10   Original Research  https://www.frontiersin.org/journals/psycholog...  \n",
      "..                 ...                                                ...  \n",
      "317  Original Research  https://www.frontiersin.org/journals/psycholog...  \n",
      "320  Original Research  https://www.frontiersin.org/journals/psycholog...  \n",
      "321  Original Research  https://www.frontiersin.org/journals/psycholog...  \n",
      "322  Original Research  https://www.frontiersin.org/journals/psycholog...  \n",
      "323  Original Research  https://www.frontiersin.org/journals/psycholog...  \n",
      "\n",
      "[210 rows x 4 columns]\n"
     ]
    }
   ],
   "source": [
    "df['Published Date'] = pd.to_datetime(df['Published Date'].str.replace(r'(Published on |Accepted on )', '', regex=True))\n",
    "df['Published Date'] = df['Published Date'].dt.strftime('%b')\n",
    "DF = df[df['Type'] == 'Original Research']\n",
    "\n",
    "# Reorder and display columns\n",
    "DF = DF[['Title', 'Published Date', 'Type', 'Link']]\n",
    "print(DF)"
   ]
  },
  {
   "cell_type": "code",
   "execution_count": 6,
   "id": "7932307c",
   "metadata": {
    "scrolled": true
   },
   "outputs": [],
   "source": [
    "#link = \"https://www.frontiersin.org/journals/psychology/articles/10.3389/fpsyg.2024.1487146/full\"\n",
    "#response = requests.get(link, headers={'User-Agent': 'Mozilla/5.0'})\n",
    "#soup = BeautifulSoup(response.text, 'html.parser')\n",
    "#soup"
   ]
  },
  {
   "cell_type": "code",
   "execution_count": 7,
   "id": "dfeac4ce",
   "metadata": {
    "scrolled": true
   },
   "outputs": [],
   "source": [
    "#abstract_meta = soup.find('meta', attrs={'name': 'citation_abstract'})\n",
    "#abstract = abstract_meta['content']\n",
    "#abstract_text = re.search(r'<p>(.*?)</p>', abstract).group(1)\n",
    "#abstract_text"
   ]
  },
  {
   "cell_type": "code",
   "execution_count": 8,
   "id": "da64b6b9",
   "metadata": {},
   "outputs": [],
   "source": [
    "#sections = [\"Data availability statement\", \"Ethics statement\", \"Author contributions\"]\n",
    "#extracted_text = []\n",
    "#found_section = False\n",
    "\n",
    "# Traverse paragraphs until we reach the first target section\n",
    "#for paragraph in soup.find_all(['p', 'h2']):\n",
    "    # If we encounter any target section, stop the extraction\n",
    "#    if paragraph.name == 'h2' and paragraph.text.strip() in sections:\n",
    "#        found_section = True\n",
    "#        break\n",
    "#    elif paragraph.name == 'p':  # Accumulate text in paragraphs\n",
    "#        extracted_text.append(paragraph.text.strip())\n",
    "\n",
    "# Join and print the extracted text\n",
    "#result = \" \".join(extracted_text)\n",
    "#print(result)"
   ]
  },
  {
   "cell_type": "code",
   "execution_count": 9,
   "id": "0bda5c4b",
   "metadata": {
    "scrolled": true
   },
   "outputs": [],
   "source": [
    "#link = \"https://www.frontiersin.org/journals/psychology/articles/10.3389/fpsyg.2024.1435688/full\"\n",
    "#response = requests.get(link, headers={'User-Agent': 'Mozilla/5.0'})\n",
    "#soup = BeautifulSoup(response.text, 'html.parser')\n",
    "#paragraphs = soup.find_all('p')\n",
    "#paragraphs"
   ]
  },
  {
   "cell_type": "code",
   "execution_count": 10,
   "id": "2390d8a0",
   "metadata": {
    "scrolled": true
   },
   "outputs": [],
   "source": [
    "#abstract_meta = soup.find('meta', attrs={'name': 'citation_abstract'})\n",
    "#abstract = abstract_meta['content']\n",
    "#abstract_text = re.search(r'<p>(.*?)</p>', abstract).group(1)\n",
    "#abstract_text"
   ]
  },
  {
   "cell_type": "code",
   "execution_count": 11,
   "id": "1994fe54",
   "metadata": {},
   "outputs": [],
   "source": [
    "#sections = [\"Data availability statement\", \"Ethics statement\", \"Author contributions\"]\n",
    "#extracted_text = []\n",
    "#found_section = False\n",
    "\n",
    "# Traverse paragraphs until we reach the first target section\n",
    "#for paragraph in soup.find_all(['p', 'h2']):\n",
    "    # If we encounter any target section, stop the extraction\n",
    "#    if paragraph.name == 'h2' and paragraph.text.strip() in sections:\n",
    "#        found_section = True\n",
    "#        break\n",
    "#    elif paragraph.name == 'p':  # Accumulate text in paragraphs\n",
    "#        extracted_text.append(paragraph.text.strip())\n",
    "\n",
    "# Join and print the extracted text\n",
    "#result = \" \".join(extracted_text)\n",
    "#print(result)"
   ]
  },
  {
   "cell_type": "code",
   "execution_count": 12,
   "id": "d778575a",
   "metadata": {},
   "outputs": [
    {
     "name": "stdout",
     "output_type": "stream",
     "text": [
      "                                                 Title Published Date  \\\n",
      "0    The inhibitory impact of collaboration on the ...            Oct   \n",
      "1    RECALL prompting hierarchy improves responsive...            Oct   \n",
      "2    Assessing key soft skills in organizational co...            Oct   \n",
      "3    Mapping perceived sentiments in university cam...            Oct   \n",
      "4    The impact of job stress on job satisfaction a...            Oct   \n",
      "..                                                 ...            ...   \n",
      "205  Gaze communicates both cue direction and agent...            Sep   \n",
      "206  The effect of parental and teacher autonomy su...            Sep   \n",
      "207  Internet addiction, social phobia, substance a...            Sep   \n",
      "208  Influence of problem-solving ability and perso...            Sep   \n",
      "209  Strategies for becoming a more desirable mate:...            Sep   \n",
      "\n",
      "                  Type                                               Link  \\\n",
      "0    Original Research  https://www.frontiersin.org/journals/psycholog...   \n",
      "1    Original Research  https://www.frontiersin.org/journals/psycholog...   \n",
      "2    Original Research  https://www.frontiersin.org/journals/psycholog...   \n",
      "3    Original Research  https://www.frontiersin.org/journals/psycholog...   \n",
      "4    Original Research  https://www.frontiersin.org/journals/psycholog...   \n",
      "..                 ...                                                ...   \n",
      "205  Original Research  https://www.frontiersin.org/journals/psycholog...   \n",
      "206  Original Research  https://www.frontiersin.org/journals/psycholog...   \n",
      "207  Original Research  https://www.frontiersin.org/journals/psycholog...   \n",
      "208  Original Research  https://www.frontiersin.org/journals/psycholog...   \n",
      "209  Original Research  https://www.frontiersin.org/journals/psycholog...   \n",
      "\n",
      "                                               Authors  \\\n",
      "0           Gongxiang Chen1, Yuxuan Zhong1, Sujie Li2*   \n",
      "1    Rebekah Bosley1,2*, Susan J. Loveall2,3, Karen...   \n",
      "2    Daiana Colledani1,2, Egidio Robusto1, Pasquale...   \n",
      "3                           Qiyuan Yan1, Yuxiang Sun2*   \n",
      "4    Mei-Hui Lin1*†, Ya-Hui Yen2†, Tsai-Fu Chuang3†...   \n",
      "..                                                 ...   \n",
      "205  Florence Mayrand1, Francesca Capozzi2, Jelena ...   \n",
      "206          Xiaoyun Zhao1*, Shun Huang1, Chaofan Shi2   \n",
      "207  Fatima Zahra Ramdani1,2*, Laila Lahlou1, Moham...   \n",
      "208   Carlos Díaz-Rodríguez1*, Eugenio Pérez-Córdoba2†   \n",
      "209  Menelaos Apostolou1, Mark Sullman1, Rasa Markš...   \n",
      "\n",
      "                                              Abstract  \\\n",
      "0    The continued influence effect (CIE) of misinf...   \n",
      "1    The purpose of the current study was to expand...   \n",
      "2    Soft skills, also known as transversal skills,...   \n",
      "3    A sustainable university campus should accommo...   \n",
      "4    The main objective of this study is to explore...   \n",
      "..                                                 ...   \n",
      "205  Although it is well established that humans sp...   \n",
      "206  According to career construction theory, middl...   \n",
      "207  Internet addiction is a mental health issue th...   \n",
      "208  Basketball players are increasingly required n...   \n",
      "209  Mate-seekers employ several strategies to beco...   \n",
      "\n",
      "                                             Full Text  \n",
      "0    The continued influence effect (CIE) of misinf...  \n",
      "1    The purpose of the current study was to expand...  \n",
      "2    Introduction: Soft skills, also known as trans...  \n",
      "3    A sustainable university campus should accommo...  \n",
      "4    Objective: The main objective of this study is...  \n",
      "..                                                 ...  \n",
      "205  Introduction: Although it is well established ...  \n",
      "206  Introduction: According to career construction...  \n",
      "207  Aim: Internet addiction is a mental health iss...  \n",
      "208  Background: Basketball players are increasingl...  \n",
      "209  Introduction: Mate-seekers employ several stra...  \n",
      "\n",
      "[210 rows x 7 columns]\n"
     ]
    }
   ],
   "source": [
    "data = []\n",
    "\n",
    "# 각 링크에서 author와 abstract, full text 추출\n",
    "sections = [\"Data availability statement\", \"Ethics statement\", \"Author contributions\"]\n",
    "\n",
    "# Iterate through each link in the DataFrame to extract data\n",
    "for index, row in DF.iterrows():\n",
    "    link = row['Link']\n",
    "    response = requests.get(link, headers={'User-Agent': 'Mozilla/5.0'})\n",
    "    soup = BeautifulSoup(response.text, 'html.parser')\n",
    "    \n",
    "    # Title\n",
    "    title = row['Title']\n",
    "    \n",
    "    # Authors\n",
    "    authors = [author.get_text(strip=True) for author in soup.select('.authors .author-wrapper')]\n",
    "    \n",
    "    # Abstract extraction using <meta> tag content\n",
    "    abstract = None\n",
    "    try:\n",
    "        abstract_meta = soup.find('meta', attrs={'name': 'citation_abstract'})\n",
    "        if abstract_meta:\n",
    "            abstract_content = abstract_meta['content']\n",
    "            abstract = re.search(r'<p>(.*?)</p>', abstract_content).group(1) if '<p>' in abstract_content else abstract_content\n",
    "        else:\n",
    "            abstract = \"Abstract not available.\"\n",
    "    except AttributeError:\n",
    "        abstract = \"Abstract not available.\"\n",
    "    \n",
    "    # Full Text extraction until the first target section\n",
    "    extracted_text = []\n",
    "    for paragraph in soup.find_all(['p', 'h2']):\n",
    "        # If we encounter any target section, stop the extraction\n",
    "        if paragraph.name == 'h2' and paragraph.text.strip() in sections:\n",
    "            break\n",
    "        elif paragraph.name == 'p':  # Accumulate text in paragraphs\n",
    "            extracted_text.append(paragraph.text.strip())\n",
    "    \n",
    "    # Join all extracted paragraphs into one full text string\n",
    "    full_text = \" \".join(extracted_text)\n",
    "    \n",
    "    # Add data to the list\n",
    "    data.append({\n",
    "        \"Title\": title,\n",
    "        \"Published Date\": row['Published Date'],\n",
    "        \"Type\": row['Type'],\n",
    "        \"Link\": link,\n",
    "        \"Authors\": \", \".join(authors),\n",
    "        \"Abstract\": abstract,\n",
    "        \"Full Text\": full_text\n",
    "    })\n",
    "\n",
    "# Create a DataFrame from the extracted data\n",
    "result_df = pd.DataFrame(data)\n",
    "print(result_df)"
   ]
  },
  {
   "cell_type": "code",
   "execution_count": 13,
   "id": "86c6f5df",
   "metadata": {},
   "outputs": [],
   "source": [
    "result_df['Title'] = result_df['Title'].apply(lambda x: re.sub(r'(\\d+|\\*|†)', '', re.sub(r'\\(.*?\\)', '', x)))\n",
    "result_df['Abstract'] = result_df['Abstract'].apply(lambda x: re.sub(r'(\\d+|\\*|†)', '', re.sub(r'\\(.*?\\)', '', x)))\n",
    "result_df['Full Text'] = result_df['Full Text'].apply(lambda x: re.sub(r'(\\d+|\\*|†)', '', re.sub(r'\\(.*?\\)', '', x)))"
   ]
  },
  {
   "cell_type": "code",
   "execution_count": 14,
   "id": "32e2902a",
   "metadata": {},
   "outputs": [
    {
     "name": "stdout",
     "output_type": "stream",
     "text": [
      "                                                 Title  \\\n",
      "0    The inhibitory impact of collaboration on the ...   \n",
      "1    RECALL prompting hierarchy improves responsive...   \n",
      "2    Assessing key soft skills in organizational co...   \n",
      "3    Mapping perceived sentiments in university cam...   \n",
      "4    The impact of job stress on job satisfaction a...   \n",
      "..                                                 ...   \n",
      "205  Gaze communicates both cue direction and agent...   \n",
      "206  The effect of parental and teacher autonomy su...   \n",
      "207  Internet addiction, social phobia, substance a...   \n",
      "208  Influence of problem-solving ability and perso...   \n",
      "209  Strategies for becoming a more desirable mate:...   \n",
      "\n",
      "                                               Authors  \n",
      "0               Gongxiang Chen, Yuxuan Zhong, Sujie Li  \n",
      "1    Rebekah Bosley, Susan J. Loveall, Karen Kate K...  \n",
      "2    Daiana Colledani, Egidio Robusto, Pasquale Ans...  \n",
      "3                              Qiyuan Yan, Yuxiang Sun  \n",
      "4    Mei-Hui Lin, Ya-Hui Yen, Tsai-Fu Chuang, Ping-...  \n",
      "..                                                 ...  \n",
      "205  Florence Mayrand, Francesca Capozzi, Jelena Ri...  \n",
      "206              Xiaoyun Zhao, Shun Huang, Chaofan Shi  \n",
      "207  Fatima Zahra Ramdani, Laila Lahlou, Mohamed Me...  \n",
      "208       Carlos Díaz-Rodríguez, Eugenio Pérez-Córdoba  \n",
      "209  Menelaos Apostolou, Mark Sullman, Rasa Markšai...  \n",
      "\n",
      "[210 rows x 2 columns]\n"
     ]
    }
   ],
   "source": [
    "result_df['Authors'] = result_df['Authors'].apply(\n",
    "    lambda x: re.sub(r'(\\d+|\\*|†)', '', x)  # Remove digits, asterisks, and dagger symbols\n",
    "                .replace(\"??\", \"\")          # Remove any question marks\n",
    "                .replace(\",,\", \",\")         # Consolidate multiple commas\n",
    "                .replace(\", ,\", \",\")        # Remove spaced commas\n",
    "                .replace(\"  \", \" \")         # Remove double spaces\n",
    "                .replace(\", ,\", \",\")                # Remove any trailing commas or spaces\n",
    ")\n",
    "print(result_df[['Title', 'Authors']])"
   ]
  },
  {
   "cell_type": "code",
   "execution_count": 15,
   "id": "d1da9a93",
   "metadata": {},
   "outputs": [],
   "source": [
    "result_df.to_csv(\"articles_data.csv\", index=False)"
   ]
  },
  {
   "cell_type": "code",
   "execution_count": 16,
   "id": "e5437233",
   "metadata": {},
   "outputs": [
    {
     "data": {
      "text/html": [
       "<div>\n",
       "<style scoped>\n",
       "    .dataframe tbody tr th:only-of-type {\n",
       "        vertical-align: middle;\n",
       "    }\n",
       "\n",
       "    .dataframe tbody tr th {\n",
       "        vertical-align: top;\n",
       "    }\n",
       "\n",
       "    .dataframe thead th {\n",
       "        text-align: right;\n",
       "    }\n",
       "</style>\n",
       "<table border=\"1\" class=\"dataframe\">\n",
       "  <thead>\n",
       "    <tr style=\"text-align: right;\">\n",
       "      <th></th>\n",
       "      <th>Title</th>\n",
       "      <th>Published Date</th>\n",
       "      <th>Type</th>\n",
       "      <th>Link</th>\n",
       "      <th>Authors</th>\n",
       "      <th>Abstract</th>\n",
       "      <th>Full Text</th>\n",
       "    </tr>\n",
       "  </thead>\n",
       "  <tbody>\n",
       "    <tr>\n",
       "      <th>0</th>\n",
       "      <td>The inhibitory impact of collaboration on the ...</td>\n",
       "      <td>Oct</td>\n",
       "      <td>Original Research</td>\n",
       "      <td>https://www.frontiersin.org/journals/psycholog...</td>\n",
       "      <td>Gongxiang Chen, Yuxuan Zhong, Sujie Li</td>\n",
       "      <td>The continued influence effect  of misinformat...</td>\n",
       "      <td>The continued influence effect  of misinformat...</td>\n",
       "    </tr>\n",
       "    <tr>\n",
       "      <th>1</th>\n",
       "      <td>RECALL prompting hierarchy improves responsive...</td>\n",
       "      <td>Oct</td>\n",
       "      <td>Original Research</td>\n",
       "      <td>https://www.frontiersin.org/journals/psycholog...</td>\n",
       "      <td>Rebekah Bosley, Susan J. Loveall, Karen Kate K...</td>\n",
       "      <td>The purpose of the current study was to expand...</td>\n",
       "      <td>The purpose of the current study was to expand...</td>\n",
       "    </tr>\n",
       "    <tr>\n",
       "      <th>2</th>\n",
       "      <td>Assessing key soft skills in organizational co...</td>\n",
       "      <td>Oct</td>\n",
       "      <td>Original Research</td>\n",
       "      <td>https://www.frontiersin.org/journals/psycholog...</td>\n",
       "      <td>Daiana Colledani, Egidio Robusto, Pasquale Ans...</td>\n",
       "      <td>Soft skills, also known as transversal skills,...</td>\n",
       "      <td>Introduction: Soft skills, also known as trans...</td>\n",
       "    </tr>\n",
       "    <tr>\n",
       "      <th>3</th>\n",
       "      <td>Mapping perceived sentiments in university cam...</td>\n",
       "      <td>Oct</td>\n",
       "      <td>Original Research</td>\n",
       "      <td>https://www.frontiersin.org/journals/psycholog...</td>\n",
       "      <td>Qiyuan Yan, Yuxiang Sun</td>\n",
       "      <td>A sustainable university campus should accommo...</td>\n",
       "      <td>A sustainable university campus should accommo...</td>\n",
       "    </tr>\n",
       "    <tr>\n",
       "      <th>4</th>\n",
       "      <td>The impact of job stress on job satisfaction a...</td>\n",
       "      <td>Oct</td>\n",
       "      <td>Original Research</td>\n",
       "      <td>https://www.frontiersin.org/journals/psycholog...</td>\n",
       "      <td>Mei-Hui Lin, Ya-Hui Yen, Tsai-Fu Chuang, Ping-...</td>\n",
       "      <td>The main objective of this study is to explore...</td>\n",
       "      <td>Objective: The main objective of this study is...</td>\n",
       "    </tr>\n",
       "    <tr>\n",
       "      <th>...</th>\n",
       "      <td>...</td>\n",
       "      <td>...</td>\n",
       "      <td>...</td>\n",
       "      <td>...</td>\n",
       "      <td>...</td>\n",
       "      <td>...</td>\n",
       "      <td>...</td>\n",
       "    </tr>\n",
       "    <tr>\n",
       "      <th>205</th>\n",
       "      <td>Gaze communicates both cue direction and agent...</td>\n",
       "      <td>Sep</td>\n",
       "      <td>Original Research</td>\n",
       "      <td>https://www.frontiersin.org/journals/psycholog...</td>\n",
       "      <td>Florence Mayrand, Francesca Capozzi, Jelena Ri...</td>\n",
       "      <td>Although it is well established that humans sp...</td>\n",
       "      <td>Introduction: Although it is well established ...</td>\n",
       "    </tr>\n",
       "    <tr>\n",
       "      <th>206</th>\n",
       "      <td>The effect of parental and teacher autonomy su...</td>\n",
       "      <td>Sep</td>\n",
       "      <td>Original Research</td>\n",
       "      <td>https://www.frontiersin.org/journals/psycholog...</td>\n",
       "      <td>Xiaoyun Zhao, Shun Huang, Chaofan Shi</td>\n",
       "      <td>According to career construction theory, middl...</td>\n",
       "      <td>Introduction: According to career construction...</td>\n",
       "    </tr>\n",
       "    <tr>\n",
       "      <th>207</th>\n",
       "      <td>Internet addiction, social phobia, substance a...</td>\n",
       "      <td>Sep</td>\n",
       "      <td>Original Research</td>\n",
       "      <td>https://www.frontiersin.org/journals/psycholog...</td>\n",
       "      <td>Fatima Zahra Ramdani, Laila Lahlou, Mohamed Me...</td>\n",
       "      <td>Internet addiction is a mental health issue th...</td>\n",
       "      <td>Aim: Internet addiction is a mental health iss...</td>\n",
       "    </tr>\n",
       "    <tr>\n",
       "      <th>208</th>\n",
       "      <td>Influence of problem-solving ability and perso...</td>\n",
       "      <td>Sep</td>\n",
       "      <td>Original Research</td>\n",
       "      <td>https://www.frontiersin.org/journals/psycholog...</td>\n",
       "      <td>Carlos Díaz-Rodríguez, Eugenio Pérez-Córdoba</td>\n",
       "      <td>Basketball players are increasingly required n...</td>\n",
       "      <td>Background: Basketball players are increasingl...</td>\n",
       "    </tr>\n",
       "    <tr>\n",
       "      <th>209</th>\n",
       "      <td>Strategies for becoming a more desirable mate:...</td>\n",
       "      <td>Sep</td>\n",
       "      <td>Original Research</td>\n",
       "      <td>https://www.frontiersin.org/journals/psycholog...</td>\n",
       "      <td>Menelaos Apostolou, Mark Sullman, Rasa Markšai...</td>\n",
       "      <td>Mate-seekers employ several strategies to beco...</td>\n",
       "      <td>Introduction: Mate-seekers employ several stra...</td>\n",
       "    </tr>\n",
       "  </tbody>\n",
       "</table>\n",
       "<p>210 rows × 7 columns</p>\n",
       "</div>"
      ],
      "text/plain": [
       "                                                 Title Published Date  \\\n",
       "0    The inhibitory impact of collaboration on the ...            Oct   \n",
       "1    RECALL prompting hierarchy improves responsive...            Oct   \n",
       "2    Assessing key soft skills in organizational co...            Oct   \n",
       "3    Mapping perceived sentiments in university cam...            Oct   \n",
       "4    The impact of job stress on job satisfaction a...            Oct   \n",
       "..                                                 ...            ...   \n",
       "205  Gaze communicates both cue direction and agent...            Sep   \n",
       "206  The effect of parental and teacher autonomy su...            Sep   \n",
       "207  Internet addiction, social phobia, substance a...            Sep   \n",
       "208  Influence of problem-solving ability and perso...            Sep   \n",
       "209  Strategies for becoming a more desirable mate:...            Sep   \n",
       "\n",
       "                  Type                                               Link  \\\n",
       "0    Original Research  https://www.frontiersin.org/journals/psycholog...   \n",
       "1    Original Research  https://www.frontiersin.org/journals/psycholog...   \n",
       "2    Original Research  https://www.frontiersin.org/journals/psycholog...   \n",
       "3    Original Research  https://www.frontiersin.org/journals/psycholog...   \n",
       "4    Original Research  https://www.frontiersin.org/journals/psycholog...   \n",
       "..                 ...                                                ...   \n",
       "205  Original Research  https://www.frontiersin.org/journals/psycholog...   \n",
       "206  Original Research  https://www.frontiersin.org/journals/psycholog...   \n",
       "207  Original Research  https://www.frontiersin.org/journals/psycholog...   \n",
       "208  Original Research  https://www.frontiersin.org/journals/psycholog...   \n",
       "209  Original Research  https://www.frontiersin.org/journals/psycholog...   \n",
       "\n",
       "                                               Authors  \\\n",
       "0               Gongxiang Chen, Yuxuan Zhong, Sujie Li   \n",
       "1    Rebekah Bosley, Susan J. Loveall, Karen Kate K...   \n",
       "2    Daiana Colledani, Egidio Robusto, Pasquale Ans...   \n",
       "3                              Qiyuan Yan, Yuxiang Sun   \n",
       "4    Mei-Hui Lin, Ya-Hui Yen, Tsai-Fu Chuang, Ping-...   \n",
       "..                                                 ...   \n",
       "205  Florence Mayrand, Francesca Capozzi, Jelena Ri...   \n",
       "206              Xiaoyun Zhao, Shun Huang, Chaofan Shi   \n",
       "207  Fatima Zahra Ramdani, Laila Lahlou, Mohamed Me...   \n",
       "208       Carlos Díaz-Rodríguez, Eugenio Pérez-Córdoba   \n",
       "209  Menelaos Apostolou, Mark Sullman, Rasa Markšai...   \n",
       "\n",
       "                                              Abstract  \\\n",
       "0    The continued influence effect  of misinformat...   \n",
       "1    The purpose of the current study was to expand...   \n",
       "2    Soft skills, also known as transversal skills,...   \n",
       "3    A sustainable university campus should accommo...   \n",
       "4    The main objective of this study is to explore...   \n",
       "..                                                 ...   \n",
       "205  Although it is well established that humans sp...   \n",
       "206  According to career construction theory, middl...   \n",
       "207  Internet addiction is a mental health issue th...   \n",
       "208  Basketball players are increasingly required n...   \n",
       "209  Mate-seekers employ several strategies to beco...   \n",
       "\n",
       "                                             Full Text  \n",
       "0    The continued influence effect  of misinformat...  \n",
       "1    The purpose of the current study was to expand...  \n",
       "2    Introduction: Soft skills, also known as trans...  \n",
       "3    A sustainable university campus should accommo...  \n",
       "4    Objective: The main objective of this study is...  \n",
       "..                                                 ...  \n",
       "205  Introduction: Although it is well established ...  \n",
       "206  Introduction: According to career construction...  \n",
       "207  Aim: Internet addiction is a mental health iss...  \n",
       "208  Background: Basketball players are increasingl...  \n",
       "209  Introduction: Mate-seekers employ several stra...  \n",
       "\n",
       "[210 rows x 7 columns]"
      ]
     },
     "execution_count": 16,
     "metadata": {},
     "output_type": "execute_result"
    }
   ],
   "source": [
    "result_df"
   ]
  },
  {
   "cell_type": "code",
   "execution_count": null,
   "id": "ad5437fc",
   "metadata": {},
   "outputs": [],
   "source": []
  }
 ],
 "metadata": {
  "kernelspec": {
   "display_name": "Python 3 (ipykernel)",
   "language": "python",
   "name": "python3"
  },
  "language_info": {
   "codemirror_mode": {
    "name": "ipython",
    "version": 3
   },
   "file_extension": ".py",
   "mimetype": "text/x-python",
   "name": "python",
   "nbconvert_exporter": "python",
   "pygments_lexer": "ipython3",
   "version": "3.11.5"
  }
 },
 "nbformat": 4,
 "nbformat_minor": 5
}
